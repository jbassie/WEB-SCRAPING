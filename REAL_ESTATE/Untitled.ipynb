{
 "cells": [
  {
   "cell_type": "code",
   "execution_count": 1,
   "metadata": {},
   "outputs": [],
   "source": [
    "import requests\n",
    "from bs4 import BeautifulSoup\n",
    "import pandas as pd\n",
    "import requests\n",
    "import json\n",
    "from lxml import etree\n",
    "import re"
   ]
  },
  {
   "cell_type": "code",
   "execution_count": 2,
   "metadata": {},
   "outputs": [],
   "source": [
    "headers = {\n",
    "    'User-Agent': 'Mozilla/5.0 (Windows NT 6.1; Win64; x64; rv:47.0) Gecko/20100101 Firefox/47.0',\n",
    "    \"Accept-Encoding\": \"*\",\n",
    "    \"Connection\": \"keep-alive\"\n",
    "    }"
   ]
  },
  {
   "cell_type": "code",
   "execution_count": 3,
   "metadata": {},
   "outputs": [],
   "source": [
    "main_url = 'https://homecityaruba.com/'\n",
    "headers = {\n",
    "    'User-Agent': 'Mozilla/5.0 (Windows NT 6.1; Win64; x64; rv:47.0) Gecko/20100101 Firefox/47.0',\n",
    "    \"Accept-Encoding\": \"*\",\n",
    "    \"Connection\": \"keep-alive\"\n",
    "    }\n",
    "hyper = ['https://homecityaruba.com/for-sale',\n",
    "         'https://homecityaruba.com/for-rent'\n",
    "    ]"
   ]
  },
  {
   "cell_type": "code",
   "execution_count": 7,
   "metadata": {},
   "outputs": [],
   "source": [
    "def get_all_url(li):\n",
    "    all_links = []\n",
    "    for url in li:\n",
    "        req = requests.get(url)\n",
    "        soup = BeautifulSoup(req.content, \"html.parser\")\n",
    "        anchors = soup.find('div', {'class': 'preview-properties'})\n",
    "        links  = anchors.find_all('a', href = True)\n",
    "        for link in links:\n",
    "            urls = main_url + link.get('href')\n",
    "            \n",
    "            #print(urls)\n",
    "            all_links.append(urls)\n",
    "    return all_links\n",
    "path = get_all_url(hyper)"
   ]
  },
  {
   "cell_type": "code",
   "execution_count": 9,
   "metadata": {},
   "outputs": [],
   "source": [
    "path2 = []\n",
    " \n",
    "for i in path:\n",
    "    if i not in path2:\n",
    "        path2.append(i)"
   ]
  },
  {
   "cell_type": "code",
   "execution_count": null,
   "metadata": {},
   "outputs": [],
   "source": [
    "def get_details(urls):\n",
    "    property_list = []\n",
    "    for link in urls:\n",
    "        req = requests.get(link)\n",
    "        soup = BeautifulSoup(req.content, 'html.parser')\n",
    "        dom = etree.HTML(str(soup))\n",
    "        \n",
    "        name = soup.find('h1', class_ = 'heading__inner').text.strip().split(\"-\")[0]\n",
    "            #location = soup.find(lambda t: t.name == 'dt' and 'District' in t.text).findNext('dd').string\n",
    "        property_status = soup.find('div', class_ = 'content').text.split(' ')[0]\n",
    "        price= soup.find('h1', class_ = 'heading__inner').text.strip().split(\"-\")[1].strip()\n",
    "            \n",
    "        bathroom = soup.find(lambda t: t.name == 'dt' and 'Baths' in t.text).findNext('dd').string\n",
    "        rooms = soup.find('div', class_ = 'property-info__inner container').find_all('li', class_ = 'amenities-items__item')[2].text.split(':')[1]\n",
    "            except AttributeError:\n",
    "                bathroom = None\n",
    "                rooms = None\n",
    "        except IndexError:\n",
    "                pass\n",
    "            \n",
    "        prop = {\n",
    "            'name': name,\n",
    "            'location': location,\n",
    "            'property': property_status,\n",
    "            'price': price,\n",
    "            'bedrooms': rooms,\n",
    "            'bathrooms' : bathroom,\n",
    "            'Pool':None,\n",
    "            'link': link\n",
    "        }\n",
    "        property_list.append(prop)\n",
    "        print('Saving:', prop['name'])\n",
    "        \n",
    "    df = pd.DataFrame(property_list)\n",
    "    print(df.head(20))\n",
    "    df.to_csv('homecity.csv', header=True, index=False)"
   ]
  }
 ],
 "metadata": {
  "kernelspec": {
   "display_name": "Python 3",
   "language": "python",
   "name": "python3"
  },
  "language_info": {
   "codemirror_mode": {
    "name": "ipython",
    "version": 3
   },
   "file_extension": ".py",
   "mimetype": "text/x-python",
   "name": "python",
   "nbconvert_exporter": "python",
   "pygments_lexer": "ipython3",
   "version": "3.8.5"
  }
 },
 "nbformat": 4,
 "nbformat_minor": 4
}
