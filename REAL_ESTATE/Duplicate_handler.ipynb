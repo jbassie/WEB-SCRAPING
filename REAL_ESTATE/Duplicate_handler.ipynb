{
 "cells": [
  {
   "cell_type": "code",
   "execution_count": 1,
   "metadata": {},
   "outputs": [],
   "source": [
    "import pandas as pd\n",
    "import numpy as np"
   ]
  },
  {
   "cell_type": "code",
   "execution_count": 2,
   "metadata": {},
   "outputs": [],
   "source": [
    "data = pd.read_csv('data/casana.csv')"
   ]
  },
  {
   "cell_type": "code",
   "execution_count": 3,
   "metadata": {},
   "outputs": [
    {
     "data": {
      "text/html": [
       "<div>\n",
       "<style scoped>\n",
       "    .dataframe tbody tr th:only-of-type {\n",
       "        vertical-align: middle;\n",
       "    }\n",
       "\n",
       "    .dataframe tbody tr th {\n",
       "        vertical-align: top;\n",
       "    }\n",
       "\n",
       "    .dataframe thead th {\n",
       "        text-align: right;\n",
       "    }\n",
       "</style>\n",
       "<table border=\"1\" class=\"dataframe\">\n",
       "  <thead>\n",
       "    <tr style=\"text-align: right;\">\n",
       "      <th></th>\n",
       "      <th>name</th>\n",
       "      <th>location</th>\n",
       "      <th>property_status</th>\n",
       "      <th>property_type</th>\n",
       "      <th>property_size</th>\n",
       "      <th>price</th>\n",
       "      <th>bedrooms</th>\n",
       "      <th>bathrooms</th>\n",
       "      <th>Pool</th>\n",
       "      <th>link</th>\n",
       "    </tr>\n",
       "  </thead>\n",
       "  <tbody>\n",
       "    <tr>\n",
       "      <th>0</th>\n",
       "      <td>COMMERCIAL BUILDING FOR RENT - Oranjestad</td>\n",
       "      <td>Oranjestad</td>\n",
       "      <td>For Rent</td>\n",
       "      <td>NaN</td>\n",
       "      <td>NaN</td>\n",
       "      <td>USD 5,618</td>\n",
       "      <td>NaN</td>\n",
       "      <td>NaN</td>\n",
       "      <td>NaN</td>\n",
       "      <td>https://www.casnan.com/listing/aruba/commercia...</td>\n",
       "    </tr>\n",
       "    <tr>\n",
       "      <th>1</th>\n",
       "      <td>Commercial property For Rent - Noord</td>\n",
       "      <td>Noord</td>\n",
       "      <td>For Rent</td>\n",
       "      <td>NaN</td>\n",
       "      <td>NaN</td>\n",
       "      <td>USD 5,421</td>\n",
       "      <td>NaN</td>\n",
       "      <td>NaN</td>\n",
       "      <td>NaN</td>\n",
       "      <td>https://www.casnan.com/listing/aruba/commercia...</td>\n",
       "    </tr>\n",
       "    <tr>\n",
       "      <th>2</th>\n",
       "      <td>Commercial Space For Rent - Oranjestad</td>\n",
       "      <td>Oranjestad</td>\n",
       "      <td>For Rent</td>\n",
       "      <td>NaN</td>\n",
       "      <td>NaN</td>\n",
       "      <td>USD 4,214</td>\n",
       "      <td>NaN</td>\n",
       "      <td>NaN</td>\n",
       "      <td>NaN</td>\n",
       "      <td>https://www.casnan.com/listing/aruba/commercia...</td>\n",
       "    </tr>\n",
       "    <tr>\n",
       "      <th>3</th>\n",
       "      <td>NaN</td>\n",
       "      <td>Oranjestad</td>\n",
       "      <td>For Rent</td>\n",
       "      <td>NaN</td>\n",
       "      <td>NaN</td>\n",
       "      <td>USD 3,371</td>\n",
       "      <td>NaN</td>\n",
       "      <td>NaN</td>\n",
       "      <td>NaN</td>\n",
       "      <td>https://www.casnan.com/listing/aruba/commercia...</td>\n",
       "    </tr>\n",
       "    <tr>\n",
       "      <th>4</th>\n",
       "      <td>Commercial Space - downtown Oranjestad</td>\n",
       "      <td>Oranjestad</td>\n",
       "      <td>For Rent</td>\n",
       "      <td>NaN</td>\n",
       "      <td>NaN</td>\n",
       "      <td>USD 2,584</td>\n",
       "      <td>NaN</td>\n",
       "      <td>NaN</td>\n",
       "      <td>NaN</td>\n",
       "      <td>https://www.casnan.com/listing/aruba/commercia...</td>\n",
       "    </tr>\n",
       "  </tbody>\n",
       "</table>\n",
       "</div>"
      ],
      "text/plain": [
       "                                        name    location property_status  \\\n",
       "0  COMMERCIAL BUILDING FOR RENT - Oranjestad  Oranjestad        For Rent   \n",
       "1       Commercial property For Rent - Noord       Noord        For Rent   \n",
       "2     Commercial Space For Rent - Oranjestad  Oranjestad        For Rent   \n",
       "3                                        NaN  Oranjestad        For Rent   \n",
       "4     Commercial Space - downtown Oranjestad  Oranjestad        For Rent   \n",
       "\n",
       "   property_type  property_size       price  bedrooms  bathrooms  Pool  \\\n",
       "0            NaN            NaN  USD 5,618        NaN        NaN   NaN   \n",
       "1            NaN            NaN  USD 5,421        NaN        NaN   NaN   \n",
       "2            NaN            NaN  USD 4,214        NaN        NaN   NaN   \n",
       "3            NaN            NaN  USD 3,371        NaN        NaN   NaN   \n",
       "4            NaN            NaN  USD 2,584        NaN        NaN   NaN   \n",
       "\n",
       "                                                link  \n",
       "0  https://www.casnan.com/listing/aruba/commercia...  \n",
       "1  https://www.casnan.com/listing/aruba/commercia...  \n",
       "2  https://www.casnan.com/listing/aruba/commercia...  \n",
       "3  https://www.casnan.com/listing/aruba/commercia...  \n",
       "4  https://www.casnan.com/listing/aruba/commercia...  "
      ]
     },
     "execution_count": 3,
     "metadata": {},
     "output_type": "execute_result"
    }
   ],
   "source": [
    "data[\"name\"] = data['name'].drop_duplicates()\n",
    "data.head()"
   ]
  },
  {
   "cell_type": "code",
   "execution_count": 4,
   "metadata": {},
   "outputs": [],
   "source": [
    "data = data.dropna(subset = ['name'])"
   ]
  },
  {
   "cell_type": "code",
   "execution_count": 5,
   "metadata": {},
   "outputs": [],
   "source": [
    "data = data.reset_index()"
   ]
  },
  {
   "cell_type": "code",
   "execution_count": 6,
   "metadata": {},
   "outputs": [
    {
     "name": "stdout",
     "output_type": "stream",
     "text": [
      "<class 'pandas.core.frame.DataFrame'>\n",
      "RangeIndex: 123 entries, 0 to 122\n",
      "Data columns (total 11 columns):\n",
      " #   Column           Non-Null Count  Dtype  \n",
      "---  ------           --------------  -----  \n",
      " 0   index            123 non-null    int64  \n",
      " 1   name             123 non-null    object \n",
      " 2   location         123 non-null    object \n",
      " 3   property_status  123 non-null    object \n",
      " 4   property_type    0 non-null      float64\n",
      " 5   property_size    0 non-null      float64\n",
      " 6   price            123 non-null    object \n",
      " 7   bedrooms         0 non-null      float64\n",
      " 8   bathrooms        0 non-null      float64\n",
      " 9   Pool             0 non-null      float64\n",
      " 10  link             123 non-null    object \n",
      "dtypes: float64(5), int64(1), object(5)\n",
      "memory usage: 10.7+ KB\n"
     ]
    }
   ],
   "source": [
    "data.info()"
   ]
  },
  {
   "cell_type": "code",
   "execution_count": 7,
   "metadata": {},
   "outputs": [],
   "source": [
    "data.to_csv('data/casana.csv', header = True, index = False)"
   ]
  }
 ],
 "metadata": {
  "kernelspec": {
   "display_name": "Python 3",
   "language": "python",
   "name": "python3"
  },
  "language_info": {
   "codemirror_mode": {
    "name": "ipython",
    "version": 3
   },
   "file_extension": ".py",
   "mimetype": "text/x-python",
   "name": "python",
   "nbconvert_exporter": "python",
   "pygments_lexer": "ipython3",
   "version": "3.8.5"
  }
 },
 "nbformat": 4,
 "nbformat_minor": 4
}
