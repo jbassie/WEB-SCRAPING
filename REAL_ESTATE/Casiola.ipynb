{
  "nbformat": 4,
  "nbformat_minor": 0,
  "metadata": {
    "colab": {
      "provenance": [],
      "authorship_tag": "ABX9TyPtVSbks1HUUL4eS3g61G76",
      "include_colab_link": true
    },
    "kernelspec": {
      "name": "python3",
      "display_name": "Python 3"
    },
    "language_info": {
      "name": "python"
    }
  },
  "cells": [
    {
      "cell_type": "markdown",
      "metadata": {
        "id": "view-in-github",
        "colab_type": "text"
      },
      "source": [
        "<a href=\"https://colab.research.google.com/github/jbassie/WEB-SCRAPING/blob/main/REAL_ESTATE/Casiola.ipynb\" target=\"_parent\"><img src=\"https://colab.research.google.com/assets/colab-badge.svg\" alt=\"Open In Colab\"/></a>"
      ]
    },
    {
      "cell_type": "code",
      "execution_count": 80,
      "metadata": {
        "colab": {
          "base_uri": "https://localhost:8080/"
        },
        "id": "dnIHRw5wbYIq",
        "outputId": "1f87a421-7fa7-4e1e-f93b-04a86fcad1b6"
      },
      "outputs": [
        {
          "output_type": "stream",
          "name": "stdout",
          "text": [
            "Looking in indexes: https://pypi.org/simple, https://us-python.pkg.dev/colab-wheels/public/simple/\n",
            "Requirement already satisfied: selenium in /usr/local/lib/python3.8/dist-packages (4.7.2)\n",
            "Requirement already satisfied: certifi>=2021.10.8 in /usr/local/lib/python3.8/dist-packages (from selenium) (2022.9.24)\n",
            "Requirement already satisfied: trio~=0.17 in /usr/local/lib/python3.8/dist-packages (from selenium) (0.22.0)\n",
            "Requirement already satisfied: trio-websocket~=0.9 in /usr/local/lib/python3.8/dist-packages (from selenium) (0.9.2)\n",
            "Requirement already satisfied: urllib3[socks]~=1.26 in /usr/local/lib/python3.8/dist-packages (from selenium) (1.26.13)\n",
            "Requirement already satisfied: outcome in /usr/local/lib/python3.8/dist-packages (from trio~=0.17->selenium) (1.2.0)\n",
            "Requirement already satisfied: attrs>=19.2.0 in /usr/local/lib/python3.8/dist-packages (from trio~=0.17->selenium) (22.1.0)\n",
            "Requirement already satisfied: sortedcontainers in /usr/local/lib/python3.8/dist-packages (from trio~=0.17->selenium) (2.4.0)\n",
            "Requirement already satisfied: sniffio in /usr/local/lib/python3.8/dist-packages (from trio~=0.17->selenium) (1.3.0)\n",
            "Requirement already satisfied: async-generator>=1.9 in /usr/local/lib/python3.8/dist-packages (from trio~=0.17->selenium) (1.10)\n",
            "Requirement already satisfied: exceptiongroup>=1.0.0rc9 in /usr/local/lib/python3.8/dist-packages (from trio~=0.17->selenium) (1.0.4)\n",
            "Requirement already satisfied: idna in /usr/local/lib/python3.8/dist-packages (from trio~=0.17->selenium) (2.10)\n",
            "Requirement already satisfied: wsproto>=0.14 in /usr/local/lib/python3.8/dist-packages (from trio-websocket~=0.9->selenium) (1.2.0)\n",
            "Requirement already satisfied: PySocks!=1.5.7,<2.0,>=1.5.6 in /usr/local/lib/python3.8/dist-packages (from urllib3[socks]~=1.26->selenium) (1.7.1)\n",
            "Requirement already satisfied: h11<1,>=0.9.0 in /usr/local/lib/python3.8/dist-packages (from wsproto>=0.14->trio-websocket~=0.9->selenium) (0.14.0)\n",
            "Hit:1 https://cloud.r-project.org/bin/linux/ubuntu bionic-cran40/ InRelease\n",
            "Ign:2 https://developer.download.nvidia.com/compute/machine-learning/repos/ubuntu1804/x86_64  InRelease\n",
            "Hit:3 https://developer.download.nvidia.com/compute/cuda/repos/ubuntu1804/x86_64  InRelease\n",
            "Hit:4 https://developer.download.nvidia.com/compute/machine-learning/repos/ubuntu1804/x86_64  Release\n",
            "Hit:5 http://archive.ubuntu.com/ubuntu bionic InRelease\n",
            "Get:6 http://security.ubuntu.com/ubuntu bionic-security InRelease [88.7 kB]\n",
            "Hit:7 http://archive.ubuntu.com/ubuntu bionic-updates InRelease\n",
            "Get:8 http://archive.ubuntu.com/ubuntu bionic-backports InRelease [83.3 kB]\n",
            "Hit:9 http://ppa.launchpad.net/c2d4u.team/c2d4u4.0+/ubuntu bionic InRelease\n",
            "Hit:11 http://ppa.launchpad.net/cran/libgit2/ubuntu bionic InRelease\n",
            "Hit:12 http://ppa.launchpad.net/deadsnakes/ppa/ubuntu bionic InRelease\n",
            "Hit:13 http://ppa.launchpad.net/graphics-drivers/ppa/ubuntu bionic InRelease\n",
            "Fetched 172 kB in 3s (62.3 kB/s)\n",
            "Reading package lists... Done\n",
            "Reading package lists... Done\n",
            "Building dependency tree       \n",
            "Reading state information... Done\n",
            "chromium-chromedriver is already the newest version (108.0.5359.71-0ubuntu0.18.04.5).\n",
            "The following package was automatically installed and is no longer required:\n",
            "  libnvidia-common-460\n",
            "Use 'apt autoremove' to remove it.\n",
            "0 upgraded, 0 newly installed, 0 to remove and 23 not upgraded.\n",
            "cp: '/usr/lib/chromium-browser/chromedriver' and '/usr/bin/chromedriver' are the same file\n"
          ]
        }
      ],
      "source": [
        "#Selenium Import\n",
        "!pip install selenium\n",
        "!apt-get update # to update ubuntu to correctly run apt install\n",
        "!apt install chromium-chromedriver\n",
        "!cp /usr/lib/chromium-browser/chromedriver /usr/bin"
      ]
    },
    {
      "cell_type": "code",
      "source": [
        "import sys\n",
        "sys.path.insert(0,'/usr/lib/chromium-browser/chromedriver')\n",
        "from selenium import webdriver\n",
        "chrome_options = webdriver.ChromeOptions()\n",
        "chrome_options.add_argument('--headless')\n",
        "chrome_options.add_argument('--no-sandbox')\n",
        "chrome_options.add_argument('--disable-dev-shm-usage')\n",
        "from selenium.webdriver.chrome.options import Options\n",
        "from selenium.webdriver.support import expected_conditions as EC\n",
        "from selenium.webdriver.common.by import By\n",
        "from selenium.webdriver.support.ui import WebDriverWait\n",
        "driver = webdriver.Chrome('chromedriver',options=chrome_options)"
      ],
      "metadata": {
        "id": "Dymh9QJRbgXX"
      },
      "execution_count": 81,
      "outputs": []
    },
    {
      "cell_type": "code",
      "source": [
        "import time\n",
        "from random import randint\n",
        "from bs4 import BeautifulSoup\n",
        "import requests #to connect to urlbb\n",
        "from lxml import etree\n",
        "import pandas as pd\n",
        "import re"
      ],
      "metadata": {
        "id": "CDaWlRwwbkHm"
      },
      "execution_count": 82,
      "outputs": []
    },
    {
      "cell_type": "code",
      "source": [
        "\n",
        "headers = {\n",
        "    \"User-Agent\":'Mozilla/5.0 (Windows NT 6.3; WOW64) AppleWebKit/537.36 (KHTML, like Gecko) Chrome/59.0.3071.115 Safari/537.36'\n",
        "    }\n"
      ],
      "metadata": {
        "id": "Fa1Oh_bIcFnx"
      },
      "execution_count": 83,
      "outputs": []
    },
    {
      "cell_type": "code",
      "source": [
        "sites = 'https://www.casiola.com/aruba/vacation-rentals/?destinationIds=5&maximumBedrooms=14&maximumBathrooms=11'\n",
        "         "
      ],
      "metadata": {
        "id": "XE4Kdlj3r8Kp"
      },
      "execution_count": 84,
      "outputs": []
    },
    {
      "cell_type": "code",
      "source": [
        "driver.get(sites)\n",
        "\n",
        "urls1 = driver.find_elements(By.CLASS_NAME, 'results')[0].find_elements(By.XPATH, '//a[@href]')\n",
        "\n",
        "WebDriverWait(driver, 30).until(EC.presence_of_element_located((By.XPATH, '//*[@id=\"casiola-app-results\"]/div/section[3]/div[2]/footer/ul/li[3]/button'))).click\n",
        "urls2 = driver.find_elements(By.CLASS_NAME, 'results')[0].find_elements(By.XPATH, '//a[@href]')\n",
        "WebDriverWait(driver, 30).until(EC.presence_of_element_located((By.XPATH, '//*[@id=\"casiola-app-results\"]/div/section[3]/div[2]/footer/ul/li[4]/button'))).click\n",
        "urls3 = driver.find_elements(By.CLASS_NAME, 'results')[0].find_elements(By.XPATH, '//a[@href]')\n",
        "WebDriverWait(driver, 30).until(EC.presence_of_element_located((By.XPATH, '//*[@id=\"casiola-app-results\"]/div/section[3]/div[2]/footer/ul/li[5]/button'))).click\n",
        "urls4 =  driver.find_elements(By.CLASS_NAME, 'results')[0].find_elements(By.XPATH, '//a[@href]')\n",
        "url = urls1 + urls2 + urls3 + urls4\n",
        "\n",
        "all_link = []\n",
        "for elem in url:\n",
        "    url = elem.get_attribute(\"href\")\n",
        "    \n",
        "    m = re.search(r'\\d+$', url)\n",
        "# if the string ends in digits m will be a Match object, or None otherwise.\n",
        "    if m is not None and 'casiola' in url:\n",
        "      print(url)\n"
      ],
      "metadata": {
        "colab": {
          "base_uri": "https://localhost:8080/"
        },
        "id": "t_fhpSch0rD-",
        "outputId": "8df699bd-1b71-4c63-dff0-6f2703a1d5ca"
      },
      "execution_count": 103,
      "outputs": [
        {
          "output_type": "stream",
          "name": "stdout",
          "text": [
            "https://www.casiola.com/aruba/palma-aruba-306/1003\n",
            "https://www.casiola.com/aruba/westpunt-36-k/573\n",
            "https://www.casiola.com/aruba/caya-mesa-bista-5/575\n",
            "https://www.casiola.com/aruba/sunset-13/578\n",
            "https://www.casiola.com/aruba/salinja-cerca-27-e/585\n",
            "https://www.casiola.com/aruba/paraguana-6-a/560\n",
            "https://www.casiola.com/aruba/rooi-santo-124/561\n",
            "https://www.casiola.com/aruba/ruby-39/562\n",
            "https://www.casiola.com/aruba/sabana-liber-205/563\n",
            "https://www.casiola.com/aruba/sabana-liber-211/564\n",
            "https://www.casiola.com/aruba/safir-27/566\n",
            "https://www.casiola.com/aruba/salinja-cerca-23-c/568\n",
            "https://www.casiola.com/aruba/savaneta-284/569\n",
            "https://www.casiola.com/aruba/sunset-17/570\n",
            "https://www.casiola.com/aruba/tebenki-15/571\n",
            "https://www.casiola.com/aruba/caya-bista-lama-26/545\n",
            "https://www.casiola.com/aruba/l-g-smith-boulevard-494/546\n",
            "https://www.casiola.com/aruba/l-g-smith-boulevard-498/547\n",
            "https://www.casiola.com/aruba/l-g-smith-boulevard-548/548\n",
            "https://www.casiola.com/aruba/malmokweg-22-j/551\n",
            "https://www.casiola.com/aruba/palma-aruba-306/1003\n",
            "https://www.casiola.com/aruba/westpunt-36-k/573\n",
            "https://www.casiola.com/aruba/caya-mesa-bista-5/575\n",
            "https://www.casiola.com/aruba/sunset-13/578\n",
            "https://www.casiola.com/aruba/salinja-cerca-27-e/585\n",
            "https://www.casiola.com/aruba/paraguana-6-a/560\n",
            "https://www.casiola.com/aruba/rooi-santo-124/561\n",
            "https://www.casiola.com/aruba/ruby-39/562\n",
            "https://www.casiola.com/aruba/sabana-liber-205/563\n",
            "https://www.casiola.com/aruba/sabana-liber-211/564\n",
            "https://www.casiola.com/aruba/safir-27/566\n",
            "https://www.casiola.com/aruba/salinja-cerca-23-c/568\n",
            "https://www.casiola.com/aruba/savaneta-284/569\n",
            "https://www.casiola.com/aruba/sunset-17/570\n",
            "https://www.casiola.com/aruba/tebenki-15/571\n",
            "https://www.casiola.com/aruba/caya-bista-lama-26/545\n",
            "https://www.casiola.com/aruba/l-g-smith-boulevard-494/546\n",
            "https://www.casiola.com/aruba/l-g-smith-boulevard-498/547\n",
            "https://www.casiola.com/aruba/l-g-smith-boulevard-548/548\n",
            "https://www.casiola.com/aruba/malmokweg-22-j/551\n",
            "https://www.casiola.com/aruba/palma-aruba-306/1003\n",
            "https://www.casiola.com/aruba/westpunt-36-k/573\n",
            "https://www.casiola.com/aruba/caya-mesa-bista-5/575\n",
            "https://www.casiola.com/aruba/sunset-13/578\n",
            "https://www.casiola.com/aruba/salinja-cerca-27-e/585\n",
            "https://www.casiola.com/aruba/paraguana-6-a/560\n",
            "https://www.casiola.com/aruba/rooi-santo-124/561\n",
            "https://www.casiola.com/aruba/ruby-39/562\n",
            "https://www.casiola.com/aruba/sabana-liber-205/563\n",
            "https://www.casiola.com/aruba/sabana-liber-211/564\n",
            "https://www.casiola.com/aruba/safir-27/566\n",
            "https://www.casiola.com/aruba/salinja-cerca-23-c/568\n",
            "https://www.casiola.com/aruba/savaneta-284/569\n",
            "https://www.casiola.com/aruba/sunset-17/570\n",
            "https://www.casiola.com/aruba/tebenki-15/571\n",
            "https://www.casiola.com/aruba/caya-bista-lama-26/545\n",
            "https://www.casiola.com/aruba/l-g-smith-boulevard-494/546\n",
            "https://www.casiola.com/aruba/l-g-smith-boulevard-498/547\n",
            "https://www.casiola.com/aruba/l-g-smith-boulevard-548/548\n",
            "https://www.casiola.com/aruba/malmokweg-22-j/551\n",
            "https://www.casiola.com/aruba/palma-aruba-306/1003\n",
            "https://www.casiola.com/aruba/westpunt-36-k/573\n",
            "https://www.casiola.com/aruba/caya-mesa-bista-5/575\n",
            "https://www.casiola.com/aruba/sunset-13/578\n",
            "https://www.casiola.com/aruba/salinja-cerca-27-e/585\n",
            "https://www.casiola.com/aruba/paraguana-6-a/560\n",
            "https://www.casiola.com/aruba/rooi-santo-124/561\n",
            "https://www.casiola.com/aruba/ruby-39/562\n",
            "https://www.casiola.com/aruba/sabana-liber-205/563\n",
            "https://www.casiola.com/aruba/sabana-liber-211/564\n",
            "https://www.casiola.com/aruba/safir-27/566\n",
            "https://www.casiola.com/aruba/salinja-cerca-23-c/568\n",
            "https://www.casiola.com/aruba/savaneta-284/569\n",
            "https://www.casiola.com/aruba/sunset-17/570\n",
            "https://www.casiola.com/aruba/tebenki-15/571\n",
            "https://www.casiola.com/aruba/caya-bista-lama-26/545\n",
            "https://www.casiola.com/aruba/l-g-smith-boulevard-494/546\n",
            "https://www.casiola.com/aruba/l-g-smith-boulevard-498/547\n",
            "https://www.casiola.com/aruba/l-g-smith-boulevard-548/548\n",
            "https://www.casiola.com/aruba/malmokweg-22-j/551\n"
          ]
        }
      ]
    },
    {
      "cell_type": "code",
      "source": [
        "all_links = [\"https://www.casiola.com/aruba/palma-aruba-306/1003\",\n",
        "\"https://www.casiola.com/aruba/westpunt-36-k/573\",\n",
        "\"https://www.casiola.com/aruba/caya-mesa-bista-5/575\",\n",
        "\"https://www.casiola.com/aruba/sunset-13/578\",\n",
        "\"https://www.casiola.com/aruba/salinja-cerca-27-e/585\",\n",
        "\"https://www.casiola.com/aruba/paraguana-6-a/560\",\n",
        "\"https://www.casiola.com/aruba/rooi-santo-124/561\",\n",
        "\"https://www.casiola.com/aruba/ruby-39/562\",\n",
        "\"https://www.casiola.com/aruba/sabana-liber-205/563\",\n",
        "\"https://www.casiola.com/aruba/sabana-liber-211/564\",\n",
        "\"https://www.casiola.com/aruba/safir-27/566\",\n",
        "\"https://www.casiola.com/aruba/salinja-cerca-23-c/568\",\n",
        "\"https://www.casiola.com/aruba/savaneta-284/569\",\n",
        "\"https://www.casiola.com/aruba/sunset-17/570\",\n",
        "\"https://www.casiola.com/aruba/tebenki-15/571\",\n",
        "\"https://www.casiola.com/aruba/caya-bista-lama-26/545\",\n",
        "\"https://www.casiola.com/aruba/l-g-smith-boulevard-494/546\",\n",
        "\"https://www.casiola.com/aruba/l-g-smith-boulevard-498/547\",\n",
        "\"https://www.casiola.com/aruba/l-g-smith-boulevard-548/548\",\n",
        "\"https://www.casiola.com/aruba/malmokweg-22-j/551\",\n",
        "\"https://www.casiola.com/aruba/palma-aruba-306/1003\",\n",
        "\"https://www.casiola.com/aruba/westpunt-36-k/573\",\n",
        "\"https://www.casiola.com/aruba/caya-mesa-bista-5/575\",\n",
        "\"https://www.casiola.com/aruba/sunset-13/578\",\n",
        "\"https://www.casiola.com/aruba/salinja-cerca-27-e/585\",\n",
        "\"https://www.casiola.com/aruba/paraguana-6-a/560\",\n",
        "\"https://www.casiola.com/aruba/rooi-santo-124/561\",\n",
        "\"https://www.casiola.com/aruba/ruby-39/562\",\n",
        "\"https://www.casiola.com/aruba/sabana-liber-205/563\",\n",
        "\"https://www.casiola.com/aruba/sabana-liber-211/564\",\n",
        "\"https://www.casiola.com/aruba/safir-27/566\",\n",
        "\"https://www.casiola.com/aruba/salinja-cerca-23-c/568\",\n",
        "\"https://www.casiola.com/aruba/savaneta-284/569\",\n",
        "\"https://www.casiola.com/aruba/sunset-17/570\",\n",
        "\"https://www.casiola.com/aruba/tebenki-15/571\",\n",
        "\"https://www.casiola.com/aruba/caya-bista-lama-26/545\",\n",
        "\"https://www.casiola.com/aruba/l-g-smith-boulevard-494/546\",\n",
        "\"https://www.casiola.com/aruba/l-g-smith-boulevard-498/547\",\n",
        "\"https://www.casiola.com/aruba/l-g-smith-boulevard-548/548\",\n",
        "\"https://www.casiola.com/aruba/malmokweg-22-j/551\",\n",
        "\"https://www.casiola.com/aruba/palma-aruba-306/1003\",\n",
        "\"https://www.casiola.com/aruba/westpunt-36-k/573\",\n",
        "\"https://www.casiola.com/aruba/caya-mesa-bista-5/575\",\n",
        "\"https://www.casiola.com/aruba/sunset-13/578\",\n",
        "\"https://www.casiola.com/aruba/salinja-cerca-27-e/585\",\n",
        "\"https://www.casiola.com/aruba/paraguana-6-a/560\",\n",
        "\"https://www.casiola.com/aruba/rooi-santo-124/561\",\n",
        "\"https://www.casiola.com/aruba/ruby-39/562\",\n",
        "\"https://www.casiola.com/aruba/sabana-liber-205/563\",\n",
        "\"https://www.casiola.com/aruba/sabana-liber-211/564\",\n",
        "\"https://www.casiola.com/aruba/safir-27/566\",\n",
        "\"https://www.casiola.com/aruba/salinja-cerca-23-c/568\",\n",
        "\"https://www.casiola.com/aruba/savaneta-284/569\",\n",
        "\"https://www.casiola.com/aruba/sunset-17/570\",\n",
        "\"https://www.casiola.com/aruba/tebenki-15/571\",\n",
        "\"https://www.casiola.com/aruba/caya-bista-lama-26/545\",\n",
        "\"https://www.casiola.com/aruba/l-g-smith-boulevard-494/546\",\n",
        "\"https://www.casiola.com/aruba/l-g-smith-boulevard-498/547\",\n",
        "\"https://www.casiola.com/aruba/l-g-smith-boulevard-548/548\",\n",
        "\"https://www.casiola.com/aruba/malmokweg-22-j/551\",\n",
        "\"https://www.casiola.com/aruba/palma-aruba-306/1003\",\n",
        "\"https://www.casiola.com/aruba/westpunt-36-k/573\",\n",
        "\"https://www.casiola.com/aruba/caya-mesa-bista-5/575\",\n",
        "\"https://www.casiola.com/aruba/sunset-13/578\",\n",
        "\"https://www.casiola.com/aruba/salinja-cerca-27-e/585\",\n",
        "\"https://www.casiola.com/aruba/paraguana-6-a/560\",\n",
        "\"https://www.casiola.com/aruba/rooi-santo-124/561\",\n",
        "\"https://www.casiola.com/aruba/ruby-39/562\",\n",
        "\"https://www.casiola.com/aruba/sabana-liber-205/563\",\n",
        "\"https://www.casiola.com/aruba/sabana-liber-211/564\",\n",
        "\"https://www.casiola.com/aruba/safir-27/566\",\n",
        "\"https://www.casiola.com/aruba/salinja-cerca-23-c/568\",\n",
        "\"https://www.casiola.com/aruba/savaneta-284/569\",\n",
        "\"https://www.casiola.com/aruba/sunset-17/570\",\n",
        "\"https://www.casiola.com/aruba/tebenki-15/571\",\n",
        "\"https://www.casiola.com/aruba/caya-bista-lama-26/545\",\n",
        "\"https://www.casiola.com/aruba/l-g-smith-boulevard-494/546\",\n",
        "\"https://www.casiola.com/aruba/l-g-smith-boulevard-498/547\",\n",
        "\"https://www.casiola.com/aruba/l-g-smith-boulevard-548/548\",\n",
        "\"https://www.casiola.com/aruba/malmokweg-22-j/551\"]"
      ],
      "metadata": {
        "id": "dEA6bjET1h-B"
      },
      "execution_count": 104,
      "outputs": []
    },
    {
      "cell_type": "code",
      "source": [
        "def get_details()\n",
        "\n",
        "req = requests.get(url, headers = headers)\n",
        "soup = BeautifulSoup(req.content, 'html.parser')\n",
        "dom = etree.HTML(str(soup))\n",
        "#print(soup)   \n",
        "name = soup.find('section', class_ = 'header').find('h1').text\n",
        "reviews = soup.find('section', class_ = 'header').find_all('span')[0].text\n",
        "bedroom = soup.find('ul', class_ = 'field--basics').find_all('span')[1].text.strip().split(':')[1].strip()\n",
        "bathroom = soup.find('ul', class_ = 'field--basics').find_all('span')[2].text.strip().split(':')[1].strip()\n",
        "pool = soup.find('ul', class_ = 'field--basics').find_all('span')[3].text\n",
        "driver.get(url)\n",
        "price = WebDriverWait(driver, 30).until(EC.presence_of_element_located((By.XPATH, '//*[@id=\"casiola-app-details-form\"]/main/div[1]/h2/strong'))).text.split(' ')[1]"
      ],
      "metadata": {
        "id": "OZZqaIlnc3bi"
      },
      "execution_count": 21,
      "outputs": []
    },
    {
      "cell_type": "code",
      "source": [
        "print(name)\n",
        "print(bedroom)\n",
        "print(bathroom)\n",
        "print(reviews)\n",
        "print(price)\n",
        "print(pool)"
      ],
      "metadata": {
        "colab": {
          "base_uri": "https://localhost:8080/"
        },
        "id": "P2Y3nOv3c--M",
        "outputId": "f11bd31c-d686-496d-9b5e-b3a6bdb8bbaa"
      },
      "execution_count": 22,
      "outputs": [
        {
          "output_type": "stream",
          "name": "stdout",
          "text": [
            "Private Tropical Paradise w/Pool - Minutes from beaches!\n",
            "5\n",
            "3\n",
            "(24)\n",
            "$243\n",
            "Pool home\n"
          ]
        }
      ]
    },
    {
      "cell_type": "code",
      "source": [
        "pool = soup.find('div', class_ = 'field-amenities')\n",
        "print(pool)"
      ],
      "metadata": {
        "colab": {
          "base_uri": "https://localhost:8080/"
        },
        "id": "DVIQ3o41eT-q",
        "outputId": "91913d5b-7685-4926-aa4b-957f180632c2"
      },
      "execution_count": 17,
      "outputs": [
        {
          "output_type": "stream",
          "name": "stdout",
          "text": [
            "None\n"
          ]
        }
      ]
    }
  ]
}