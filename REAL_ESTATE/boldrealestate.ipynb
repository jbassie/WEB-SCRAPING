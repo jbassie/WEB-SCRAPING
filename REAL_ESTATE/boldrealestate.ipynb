{
 "cells": [
  {
   "cell_type": "code",
   "execution_count": 1,
   "metadata": {},
   "outputs": [],
   "source": [
    "import requests\n",
    "from bs4 import BeautifulSoup\n",
    "import pandas as pd\n",
    "import requests\n",
    "import json\n",
    "from lxml import etree\n",
    "import time"
   ]
  },
  {
   "cell_type": "code",
   "execution_count": 2,
   "metadata": {},
   "outputs": [],
   "source": [
    "url = 'https://boldrealestatearuba.com/properties/sale'\n",
    "main_url = 'https://boldrealestatearuba.com/'"
   ]
  },
  {
   "cell_type": "code",
   "execution_count": 3,
   "metadata": {},
   "outputs": [],
   "source": [
    "headers = {\n",
    "    'User-Agent': 'Mozilla/5.0 (Windows NT 6.1; Win64; x64; rv:47.0) Gecko/20100101 Firefox/47.0',\n",
    "    \"Accept-Encoding\": \"*\",\n",
    "    \"Connection\": \"keep-alive\"\n",
    "    }"
   ]
  },
  {
   "cell_type": "code",
   "execution_count": 4,
   "metadata": {},
   "outputs": [
    {
     "name": "stdout",
     "output_type": "stream",
     "text": [
      "https://boldrealestatearuba.com//properties/la-colina-tierra-del-sol\n",
      "https://boldrealestatearuba.com//properties/villa-bella-luna\n",
      "https://boldrealestatearuba.com//properties/lux-esmeralda\n",
      "https://boldrealestatearuba.com//properties/seroe-janchi\n",
      "https://boldrealestatearuba.com//properties/the-multi-space-office\n",
      "https://boldrealestatearuba.com//properties/diamante-182-a\n",
      "https://boldrealestatearuba.com//properties/gold-coast-138d\n",
      "https://boldrealestatearuba.com//properties/harbour-penthouse\n",
      "https://boldrealestatearuba.com//properties/central-luxury-living-apartment-2\n",
      "https://boldrealestatearuba.com//properties/atlantic-360-residences-2\n",
      "https://boldrealestatearuba.com//properties/beauty-in-nature\n",
      "https://boldrealestatearuba.com//properties/seroe-janchi\n",
      "https://boldrealestatearuba.com//properties/property-land-bonaire\n",
      "https://boldrealestatearuba.com//properties/property-land-catashi\n",
      "https://boldrealestatearuba.com//properties/paradera-87h\n"
     ]
    }
   ],
   "source": [
    "def get_all_url(li):\n",
    "    all_links = []\n",
    "    req = requests.get(url, headers = headers)\n",
    "    soup = BeautifulSoup(req.content, \"html.parser\")\n",
    "    anchors = soup.find_all('div', {'class': \"redesign property-list-section\"})\n",
    "    for anchor in anchors:\n",
    "        links  = anchor.find_all('a', {\"class\":\"property-list__view\",'href' :True})\n",
    "        for link in links:\n",
    "            urls = main_url +link.get('href')\n",
    "            print(urls)\n",
    "            all_links.append(urls)\n",
    "    return all_links\n",
    "path = get_all_url(url)"
   ]
  },
  {
   "cell_type": "code",
   "execution_count": 5,
   "metadata": {},
   "outputs": [],
   "source": [
    "path2 = ['https://boldrealestatearuba.com/properties/alto-vista-32',\n",
    "        'https://boldrealestatearuba.com/properties/paradera-87h',\n",
    "        'https://boldrealestatearuba.com/properties/cudi-65',\n",
    "        'https://boldrealestatearuba.com/properties/centrally-located',\n",
    "        'https://boldrealestatearuba.com/properties/bella-vista-residence',\n",
    "        'https://boldrealestatearuba.com/properties/blue-residence',\n",
    "        'https://boldrealestatearuba.com/properties/o-condominium',\n",
    "        'https://boldrealestatearuba.com/properties/palm-aruba-unit-groundfl',\n",
    "        'https://boldrealestatearuba.com/properties/palm-aruba-condo-5th-fl',\n",
    "        'https://boldrealestatearuba.com/properties/aracari-residences',\n",
    "        'https://boldrealestatearuba.com/properties/the-daher-residence',\n",
    "        'https://boldrealestatearuba.com/properties/blue-residence-penthouse-1-2']"
   ]
  },
  {
   "cell_type": "code",
   "execution_count": 6,
   "metadata": {},
   "outputs": [
    {
     "data": {
      "text/plain": [
       "['https://boldrealestatearuba.com//properties/la-colina-tierra-del-sol',\n",
       " 'https://boldrealestatearuba.com//properties/villa-bella-luna',\n",
       " 'https://boldrealestatearuba.com//properties/lux-esmeralda',\n",
       " 'https://boldrealestatearuba.com//properties/seroe-janchi',\n",
       " 'https://boldrealestatearuba.com//properties/the-multi-space-office',\n",
       " 'https://boldrealestatearuba.com//properties/diamante-182-a',\n",
       " 'https://boldrealestatearuba.com//properties/gold-coast-138d',\n",
       " 'https://boldrealestatearuba.com//properties/harbour-penthouse',\n",
       " 'https://boldrealestatearuba.com//properties/central-luxury-living-apartment-2',\n",
       " 'https://boldrealestatearuba.com//properties/atlantic-360-residences-2',\n",
       " 'https://boldrealestatearuba.com//properties/beauty-in-nature',\n",
       " 'https://boldrealestatearuba.com//properties/seroe-janchi',\n",
       " 'https://boldrealestatearuba.com//properties/property-land-bonaire',\n",
       " 'https://boldrealestatearuba.com//properties/property-land-catashi',\n",
       " 'https://boldrealestatearuba.com//properties/paradera-87h',\n",
       " 'https://boldrealestatearuba.com/properties/alto-vista-32',\n",
       " 'https://boldrealestatearuba.com/properties/paradera-87h',\n",
       " 'https://boldrealestatearuba.com/properties/cudi-65',\n",
       " 'https://boldrealestatearuba.com/properties/centrally-located',\n",
       " 'https://boldrealestatearuba.com/properties/bella-vista-residence',\n",
       " 'https://boldrealestatearuba.com/properties/blue-residence',\n",
       " 'https://boldrealestatearuba.com/properties/o-condominium',\n",
       " 'https://boldrealestatearuba.com/properties/palm-aruba-unit-groundfl',\n",
       " 'https://boldrealestatearuba.com/properties/palm-aruba-condo-5th-fl',\n",
       " 'https://boldrealestatearuba.com/properties/aracari-residences',\n",
       " 'https://boldrealestatearuba.com/properties/the-daher-residence',\n",
       " 'https://boldrealestatearuba.com/properties/blue-residence-penthouse-1-2']"
      ]
     },
     "execution_count": 6,
     "metadata": {},
     "output_type": "execute_result"
    }
   ],
   "source": [
    "path3 = path + path2\n",
    "path3"
   ]
  },
  {
   "cell_type": "code",
   "execution_count": 7,
   "metadata": {},
   "outputs": [],
   "source": [
    "path3 = ['https://boldrealestatearuba.com//properties/la-colina-tierra-del-sol',\n",
    " 'https://boldrealestatearuba.com//properties/villa-bella-luna',\n",
    " 'https://boldrealestatearuba.com//properties/lux-esmeralda',\n",
    " 'https://boldrealestatearuba.com//properties/seroe-janchi',\n",
    " 'https://boldrealestatearuba.com//properties/the-multi-space-office',\n",
    " 'https://boldrealestatearuba.com//properties/diamante-182-a',\n",
    " 'https://boldrealestatearuba.com//properties/gold-coast-138d',\n",
    " 'https://boldrealestatearuba.com//properties/harbour-penthouse',\n",
    " 'https://boldrealestatearuba.com//properties/central-luxury-living-apartment-2',\n",
    " 'https://boldrealestatearuba.com//properties/atlantic-360-residences-2',\n",
    " 'https://boldrealestatearuba.com//properties/beauty-in-nature',\n",
    " 'https://boldrealestatearuba.com//properties/seroe-janchi',\n",
    " 'https://boldrealestatearuba.com//properties/property-land-bonaire',\n",
    " 'https://boldrealestatearuba.com//properties/property-land-catashi',\n",
    " 'https://boldrealestatearuba.com//properties/palm-beach-88-c',\n",
    " 'https://boldrealestatearuba.com//properties/paradera-87h',\n",
    " 'https://boldrealestatearuba.com/properties/alto-vista-32',\n",
    " 'https://boldrealestatearuba.com/properties/paradera-87h',\n",
    " 'https://boldrealestatearuba.com/properties/centrally-located',\n",
    " 'https://boldrealestatearuba.com/properties/bella-vista-residence',\n",
    " 'https://boldrealestatearuba.com/properties/blue-residence',\n",
    " 'https://boldrealestatearuba.com/properties/o-condominium',\n",
    " 'https://boldrealestatearuba.com/properties/palm-aruba-unit-groundfl',\n",
    " 'https://boldrealestatearuba.com/properties/palm-aruba-condo-5th-fl',\n",
    " 'https://boldrealestatearuba.com/properties/aracari-residences',\n",
    " 'https://boldrealestatearuba.com/properties/the-daher-residence',\n",
    " 'https://boldrealestatearuba.com/properties/blue-residence-penthouse-1-2']"
   ]
  },
  {
   "cell_type": "code",
   "execution_count": 12,
   "metadata": {},
   "outputs": [],
   "source": [
    "def get_details(urls):\n",
    "    property_list = []\n",
    "    for link in urls:\n",
    "        req = requests.get(link, headers = headers)\n",
    "        soup = BeautifulSoup(req.content, 'html.parser')\n",
    "        dom = etree.HTML(str(soup))\n",
    "       \n",
    "        name = soup.find('h1', class_ = \"lp-h3\").text\n",
    "       \n",
    "        #location = dom.xpath('//*[@id=\"section-6fd00f4f-0c50-4836-ba89-0ce4e62192dc\"]/div/div/div/div/div[1]/div[2]/ul/li[7]/span')[0].text.strip()\n",
    "        location = soup.find('p', class_ = \"feature\").text\n",
    "        property_status = soup.find('span', class_ = \"label\").text\n",
    "            \n",
    "        try:\n",
    "            price = soup.select('h5')[0].text.strip()\n",
    "            bathroom= dom.xpath('//*[@id=\"section-6fd00f4f-0c50-4836-ba89-0ce4e62192dc\"]/div/div/div/div/div[1]/div[1]/ul/li[2]/span')[0].text.strip()\n",
    "            property_lot_size = dom.xpath('//*[@id=\"section-9b73f24f-fa86-455c-9898-d4f2afc1c44e\"]/div/div/div[2]/div[4]/p')[0].text.strip().split(\" \")[0] + 'sq.ft'\n",
    "            property_living_size =  dom.xpath('//*[@id=\"section-9b73f24f-fa86-455c-9898-d4f2afc1c44e\"]/div/div/div[2]/div[3]/p')[0].text.strip().split(\" \")[0] + 'sq.ft'\n",
    "        except AttributeError:\n",
    "            price = None\n",
    "            bathroom= None\n",
    "            property_lot_size = None\n",
    "            property_living_size  = None\n",
    "        except IndexError:\n",
    "            price = None\n",
    "            bathroom= None\n",
    "            property_lot_size = None\n",
    "            property_living_size  = None\n",
    "        rooms= dom.xpath('//*[@id=\"section-6fd00f4f-0c50-4836-ba89-0ce4e62192dc\"]/div/div/div/div/div[1]/div[1]/ul/li[1]/span')[0].text.strip()\n",
    "        time.sleep(5)\n",
    "        \n",
    "        \n",
    "        #pool= dom.xpath('//*[@id=\"section-6fd00f4f-0c50-4836-ba89-0ce4e62192dc\"]/div/div/div/div/div[2]/div[1]/ul/li[1]/span')[0].text.strip()\n",
    "\n",
    "            \n",
    "        prop = {\n",
    "            'name': name,\n",
    "            'location': location,\n",
    "            'property': property_status,\n",
    "            'property_lot_size': property_lot_size,\n",
    "            'property_living_size': property_living_size,\n",
    "            'price': price,\n",
    "            'bedrooms': rooms,\n",
    "            'bathrooms' : bathroom,\n",
    "            'Pool':None,\n",
    "            'link': link\n",
    "        }\n",
    "        property_list.append(prop)\n",
    "        print('Saving:', prop['name'])\n",
    "        \n",
    "    df = pd.DataFrame(property_list)\n",
    "    print(df.head(20))\n",
    "    df.to_csv('data/boldrealestatearuba2.csv', header=True, index=False)"
   ]
  },
  {
   "cell_type": "code",
   "execution_count": 16,
   "metadata": {},
   "outputs": [
    {
     "ename": "MissingSchema",
     "evalue": "Invalid URL 'h': No scheme supplied. Perhaps you meant http://h?",
     "output_type": "error",
     "traceback": [
      "\u001b[1;31m---------------------------------------------------------------------------\u001b[0m",
      "\u001b[1;31mMissingSchema\u001b[0m                             Traceback (most recent call last)",
      "\u001b[1;32m<ipython-input-16-b41d54a6fa7b>\u001b[0m in \u001b[0;36m<module>\u001b[1;34m\u001b[0m\n\u001b[1;32m----> 1\u001b[1;33m \u001b[0mget_details\u001b[0m\u001b[1;33m(\u001b[0m\u001b[0mpath3\u001b[0m\u001b[1;33m[\u001b[0m\u001b[1;33m-\u001b[0m\u001b[1;36m1\u001b[0m\u001b[1;33m]\u001b[0m\u001b[1;33m)\u001b[0m\u001b[1;33m\u001b[0m\u001b[1;33m\u001b[0m\u001b[0m\n\u001b[0m",
      "\u001b[1;32m<ipython-input-12-c4203b38e196>\u001b[0m in \u001b[0;36mget_details\u001b[1;34m(urls)\u001b[0m\n\u001b[0;32m      2\u001b[0m     \u001b[0mproperty_list\u001b[0m \u001b[1;33m=\u001b[0m \u001b[1;33m[\u001b[0m\u001b[1;33m]\u001b[0m\u001b[1;33m\u001b[0m\u001b[1;33m\u001b[0m\u001b[0m\n\u001b[0;32m      3\u001b[0m     \u001b[1;32mfor\u001b[0m \u001b[0mlink\u001b[0m \u001b[1;32min\u001b[0m \u001b[0murls\u001b[0m\u001b[1;33m:\u001b[0m\u001b[1;33m\u001b[0m\u001b[1;33m\u001b[0m\u001b[0m\n\u001b[1;32m----> 4\u001b[1;33m         \u001b[0mreq\u001b[0m \u001b[1;33m=\u001b[0m \u001b[0mrequests\u001b[0m\u001b[1;33m.\u001b[0m\u001b[0mget\u001b[0m\u001b[1;33m(\u001b[0m\u001b[0mlink\u001b[0m\u001b[1;33m,\u001b[0m \u001b[0mheaders\u001b[0m \u001b[1;33m=\u001b[0m \u001b[0mheaders\u001b[0m\u001b[1;33m)\u001b[0m\u001b[1;33m\u001b[0m\u001b[1;33m\u001b[0m\u001b[0m\n\u001b[0m\u001b[0;32m      5\u001b[0m         \u001b[0msoup\u001b[0m \u001b[1;33m=\u001b[0m \u001b[0mBeautifulSoup\u001b[0m\u001b[1;33m(\u001b[0m\u001b[0mreq\u001b[0m\u001b[1;33m.\u001b[0m\u001b[0mcontent\u001b[0m\u001b[1;33m,\u001b[0m \u001b[1;34m'html.parser'\u001b[0m\u001b[1;33m)\u001b[0m\u001b[1;33m\u001b[0m\u001b[1;33m\u001b[0m\u001b[0m\n\u001b[0;32m      6\u001b[0m         \u001b[0mdom\u001b[0m \u001b[1;33m=\u001b[0m \u001b[0metree\u001b[0m\u001b[1;33m.\u001b[0m\u001b[0mHTML\u001b[0m\u001b[1;33m(\u001b[0m\u001b[0mstr\u001b[0m\u001b[1;33m(\u001b[0m\u001b[0msoup\u001b[0m\u001b[1;33m)\u001b[0m\u001b[1;33m)\u001b[0m\u001b[1;33m\u001b[0m\u001b[1;33m\u001b[0m\u001b[0m\n",
      "\u001b[1;32mC:\\ProgramData\\Anaconda3\\lib\\site-packages\\requests\\api.py\u001b[0m in \u001b[0;36mget\u001b[1;34m(url, params, **kwargs)\u001b[0m\n\u001b[0;32m     73\u001b[0m     \"\"\"\n\u001b[0;32m     74\u001b[0m \u001b[1;33m\u001b[0m\u001b[0m\n\u001b[1;32m---> 75\u001b[1;33m     \u001b[1;32mreturn\u001b[0m \u001b[0mrequest\u001b[0m\u001b[1;33m(\u001b[0m\u001b[1;34m'get'\u001b[0m\u001b[1;33m,\u001b[0m \u001b[0murl\u001b[0m\u001b[1;33m,\u001b[0m \u001b[0mparams\u001b[0m\u001b[1;33m=\u001b[0m\u001b[0mparams\u001b[0m\u001b[1;33m,\u001b[0m \u001b[1;33m**\u001b[0m\u001b[0mkwargs\u001b[0m\u001b[1;33m)\u001b[0m\u001b[1;33m\u001b[0m\u001b[1;33m\u001b[0m\u001b[0m\n\u001b[0m\u001b[0;32m     76\u001b[0m \u001b[1;33m\u001b[0m\u001b[0m\n\u001b[0;32m     77\u001b[0m \u001b[1;33m\u001b[0m\u001b[0m\n",
      "\u001b[1;32mC:\\ProgramData\\Anaconda3\\lib\\site-packages\\requests\\api.py\u001b[0m in \u001b[0;36mrequest\u001b[1;34m(method, url, **kwargs)\u001b[0m\n\u001b[0;32m     59\u001b[0m     \u001b[1;31m# cases, and look like a memory leak in others.\u001b[0m\u001b[1;33m\u001b[0m\u001b[1;33m\u001b[0m\u001b[1;33m\u001b[0m\u001b[0m\n\u001b[0;32m     60\u001b[0m     \u001b[1;32mwith\u001b[0m \u001b[0msessions\u001b[0m\u001b[1;33m.\u001b[0m\u001b[0mSession\u001b[0m\u001b[1;33m(\u001b[0m\u001b[1;33m)\u001b[0m \u001b[1;32mas\u001b[0m \u001b[0msession\u001b[0m\u001b[1;33m:\u001b[0m\u001b[1;33m\u001b[0m\u001b[1;33m\u001b[0m\u001b[0m\n\u001b[1;32m---> 61\u001b[1;33m         \u001b[1;32mreturn\u001b[0m \u001b[0msession\u001b[0m\u001b[1;33m.\u001b[0m\u001b[0mrequest\u001b[0m\u001b[1;33m(\u001b[0m\u001b[0mmethod\u001b[0m\u001b[1;33m=\u001b[0m\u001b[0mmethod\u001b[0m\u001b[1;33m,\u001b[0m \u001b[0murl\u001b[0m\u001b[1;33m=\u001b[0m\u001b[0murl\u001b[0m\u001b[1;33m,\u001b[0m \u001b[1;33m**\u001b[0m\u001b[0mkwargs\u001b[0m\u001b[1;33m)\u001b[0m\u001b[1;33m\u001b[0m\u001b[1;33m\u001b[0m\u001b[0m\n\u001b[0m\u001b[0;32m     62\u001b[0m \u001b[1;33m\u001b[0m\u001b[0m\n\u001b[0;32m     63\u001b[0m \u001b[1;33m\u001b[0m\u001b[0m\n",
      "\u001b[1;32mC:\\ProgramData\\Anaconda3\\lib\\site-packages\\requests\\sessions.py\u001b[0m in \u001b[0;36mrequest\u001b[1;34m(self, method, url, params, data, headers, cookies, files, auth, timeout, allow_redirects, proxies, hooks, stream, verify, cert, json)\u001b[0m\n\u001b[0;32m    513\u001b[0m             \u001b[0mhooks\u001b[0m\u001b[1;33m=\u001b[0m\u001b[0mhooks\u001b[0m\u001b[1;33m,\u001b[0m\u001b[1;33m\u001b[0m\u001b[1;33m\u001b[0m\u001b[0m\n\u001b[0;32m    514\u001b[0m         )\n\u001b[1;32m--> 515\u001b[1;33m         \u001b[0mprep\u001b[0m \u001b[1;33m=\u001b[0m \u001b[0mself\u001b[0m\u001b[1;33m.\u001b[0m\u001b[0mprepare_request\u001b[0m\u001b[1;33m(\u001b[0m\u001b[0mreq\u001b[0m\u001b[1;33m)\u001b[0m\u001b[1;33m\u001b[0m\u001b[1;33m\u001b[0m\u001b[0m\n\u001b[0m\u001b[0;32m    516\u001b[0m \u001b[1;33m\u001b[0m\u001b[0m\n\u001b[0;32m    517\u001b[0m         \u001b[0mproxies\u001b[0m \u001b[1;33m=\u001b[0m \u001b[0mproxies\u001b[0m \u001b[1;32mor\u001b[0m \u001b[1;33m{\u001b[0m\u001b[1;33m}\u001b[0m\u001b[1;33m\u001b[0m\u001b[1;33m\u001b[0m\u001b[0m\n",
      "\u001b[1;32mC:\\ProgramData\\Anaconda3\\lib\\site-packages\\requests\\sessions.py\u001b[0m in \u001b[0;36mprepare_request\u001b[1;34m(self, request)\u001b[0m\n\u001b[0;32m    441\u001b[0m \u001b[1;33m\u001b[0m\u001b[0m\n\u001b[0;32m    442\u001b[0m         \u001b[0mp\u001b[0m \u001b[1;33m=\u001b[0m \u001b[0mPreparedRequest\u001b[0m\u001b[1;33m(\u001b[0m\u001b[1;33m)\u001b[0m\u001b[1;33m\u001b[0m\u001b[1;33m\u001b[0m\u001b[0m\n\u001b[1;32m--> 443\u001b[1;33m         p.prepare(\n\u001b[0m\u001b[0;32m    444\u001b[0m             \u001b[0mmethod\u001b[0m\u001b[1;33m=\u001b[0m\u001b[0mrequest\u001b[0m\u001b[1;33m.\u001b[0m\u001b[0mmethod\u001b[0m\u001b[1;33m.\u001b[0m\u001b[0mupper\u001b[0m\u001b[1;33m(\u001b[0m\u001b[1;33m)\u001b[0m\u001b[1;33m,\u001b[0m\u001b[1;33m\u001b[0m\u001b[1;33m\u001b[0m\u001b[0m\n\u001b[0;32m    445\u001b[0m             \u001b[0murl\u001b[0m\u001b[1;33m=\u001b[0m\u001b[0mrequest\u001b[0m\u001b[1;33m.\u001b[0m\u001b[0murl\u001b[0m\u001b[1;33m,\u001b[0m\u001b[1;33m\u001b[0m\u001b[1;33m\u001b[0m\u001b[0m\n",
      "\u001b[1;32mC:\\ProgramData\\Anaconda3\\lib\\site-packages\\requests\\models.py\u001b[0m in \u001b[0;36mprepare\u001b[1;34m(self, method, url, headers, files, data, params, auth, cookies, hooks, json)\u001b[0m\n\u001b[0;32m    316\u001b[0m \u001b[1;33m\u001b[0m\u001b[0m\n\u001b[0;32m    317\u001b[0m         \u001b[0mself\u001b[0m\u001b[1;33m.\u001b[0m\u001b[0mprepare_method\u001b[0m\u001b[1;33m(\u001b[0m\u001b[0mmethod\u001b[0m\u001b[1;33m)\u001b[0m\u001b[1;33m\u001b[0m\u001b[1;33m\u001b[0m\u001b[0m\n\u001b[1;32m--> 318\u001b[1;33m         \u001b[0mself\u001b[0m\u001b[1;33m.\u001b[0m\u001b[0mprepare_url\u001b[0m\u001b[1;33m(\u001b[0m\u001b[0murl\u001b[0m\u001b[1;33m,\u001b[0m \u001b[0mparams\u001b[0m\u001b[1;33m)\u001b[0m\u001b[1;33m\u001b[0m\u001b[1;33m\u001b[0m\u001b[0m\n\u001b[0m\u001b[0;32m    319\u001b[0m         \u001b[0mself\u001b[0m\u001b[1;33m.\u001b[0m\u001b[0mprepare_headers\u001b[0m\u001b[1;33m(\u001b[0m\u001b[0mheaders\u001b[0m\u001b[1;33m)\u001b[0m\u001b[1;33m\u001b[0m\u001b[1;33m\u001b[0m\u001b[0m\n\u001b[0;32m    320\u001b[0m         \u001b[0mself\u001b[0m\u001b[1;33m.\u001b[0m\u001b[0mprepare_cookies\u001b[0m\u001b[1;33m(\u001b[0m\u001b[0mcookies\u001b[0m\u001b[1;33m)\u001b[0m\u001b[1;33m\u001b[0m\u001b[1;33m\u001b[0m\u001b[0m\n",
      "\u001b[1;32mC:\\ProgramData\\Anaconda3\\lib\\site-packages\\requests\\models.py\u001b[0m in \u001b[0;36mprepare_url\u001b[1;34m(self, url, params)\u001b[0m\n\u001b[0;32m    390\u001b[0m             \u001b[0merror\u001b[0m \u001b[1;33m=\u001b[0m \u001b[0merror\u001b[0m\u001b[1;33m.\u001b[0m\u001b[0mformat\u001b[0m\u001b[1;33m(\u001b[0m\u001b[0mto_native_string\u001b[0m\u001b[1;33m(\u001b[0m\u001b[0murl\u001b[0m\u001b[1;33m,\u001b[0m \u001b[1;34m'utf8'\u001b[0m\u001b[1;33m)\u001b[0m\u001b[1;33m)\u001b[0m\u001b[1;33m\u001b[0m\u001b[1;33m\u001b[0m\u001b[0m\n\u001b[0;32m    391\u001b[0m \u001b[1;33m\u001b[0m\u001b[0m\n\u001b[1;32m--> 392\u001b[1;33m             \u001b[1;32mraise\u001b[0m \u001b[0mMissingSchema\u001b[0m\u001b[1;33m(\u001b[0m\u001b[0merror\u001b[0m\u001b[1;33m)\u001b[0m\u001b[1;33m\u001b[0m\u001b[1;33m\u001b[0m\u001b[0m\n\u001b[0m\u001b[0;32m    393\u001b[0m \u001b[1;33m\u001b[0m\u001b[0m\n\u001b[0;32m    394\u001b[0m         \u001b[1;32mif\u001b[0m \u001b[1;32mnot\u001b[0m \u001b[0mhost\u001b[0m\u001b[1;33m:\u001b[0m\u001b[1;33m\u001b[0m\u001b[1;33m\u001b[0m\u001b[0m\n",
      "\u001b[1;31mMissingSchema\u001b[0m: Invalid URL 'h': No scheme supplied. Perhaps you meant http://h?"
     ]
    }
   ],
   "source": [
    "get_details(path3[-1])"
   ]
  }
 ],
 "metadata": {
  "kernelspec": {
   "display_name": "Python 3",
   "language": "python",
   "name": "python3"
  },
  "language_info": {
   "codemirror_mode": {
    "name": "ipython",
    "version": 3
   },
   "file_extension": ".py",
   "mimetype": "text/x-python",
   "name": "python",
   "nbconvert_exporter": "python",
   "pygments_lexer": "ipython3",
   "version": "3.8.5"
  }
 },
 "nbformat": 4,
 "nbformat_minor": 4
}
