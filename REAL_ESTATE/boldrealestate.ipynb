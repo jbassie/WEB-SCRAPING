{
 "cells": [
  {
   "cell_type": "code",
   "execution_count": 1,
   "metadata": {},
   "outputs": [],
   "source": [
    "import requests\n",
    "from bs4 import BeautifulSoup\n",
    "import pandas as pd\n",
    "import requests\n",
    "import json\n",
    "from lxml import etree"
   ]
  },
  {
   "cell_type": "code",
   "execution_count": 2,
   "metadata": {},
   "outputs": [],
   "source": [
    "url = 'https://boldrealestatearuba.com/properties/sale'\n",
    "main_url = 'https://boldrealestatearuba.com/'"
   ]
  },
  {
   "cell_type": "code",
   "execution_count": 3,
   "metadata": {},
   "outputs": [
    {
     "name": "stdout",
     "output_type": "stream",
     "text": [
      "https://boldrealestatearuba.com//properties/villa-bella-luna\n",
      "https://boldrealestatearuba.com//properties/lux-esmeralda\n",
      "https://boldrealestatearuba.com//properties/seroe-janchi\n",
      "https://boldrealestatearuba.com//properties/villa-diamante-186\n",
      "https://boldrealestatearuba.com//properties/the-multi-space-office\n",
      "https://boldrealestatearuba.com//properties/diamante-182-a\n",
      "https://boldrealestatearuba.com//properties/gold-coast-138d\n",
      "https://boldrealestatearuba.com//properties/harbour-penthouse\n",
      "https://boldrealestatearuba.com//properties/central-luxury-living-apartment-2\n",
      "https://boldrealestatearuba.com//properties/atlantic-360-residences-2\n",
      "https://boldrealestatearuba.com//properties/beauty-in-nature\n",
      "https://boldrealestatearuba.com//properties/seroe-janchi\n",
      "https://boldrealestatearuba.com//properties/property-land-bonaire\n",
      "https://boldrealestatearuba.com//properties/property-land-catashi\n",
      "https://boldrealestatearuba.com//properties/palm-beach-88-c\n",
      "https://boldrealestatearuba.com//properties/diamante-13\n"
     ]
    }
   ],
   "source": [
    "def get_all_url(li):\n",
    "    all_links = []\n",
    "    req = requests.get(url)\n",
    "    soup = BeautifulSoup(req.content, \"html.parser\")\n",
    "    anchors = soup.find_all('div', {'class': \"redesign property-list-section\"})\n",
    "    for anchor in anchors:\n",
    "        links  = anchor.find_all('a', {\"class\":\"property-list__view\",'href' :True})\n",
    "        for link in links:\n",
    "            urls = main_url +link.get('href')\n",
    "            print(urls)\n",
    "            all_links.append(urls)\n",
    "    return all_links\n",
    "path = get_all_url(url)"
   ]
  },
  {
   "cell_type": "code",
   "execution_count": 4,
   "metadata": {},
   "outputs": [],
   "source": [
    "path2 = ['https://boldrealestatearuba.com/properties/alto-vista-32',\n",
    "        'https://boldrealestatearuba.com/properties/paradera-87h',\n",
    "        'https://boldrealestatearuba.com/properties/cudi-65',\n",
    "        'https://boldrealestatearuba.com/properties/centrally-located',\n",
    "        'https://boldrealestatearuba.com/properties/bella-vista-residence',\n",
    "        'https://boldrealestatearuba.com/properties/blue-residence',\n",
    "        'https://boldrealestatearuba.com/properties/o-condominium',\n",
    "        'https://boldrealestatearuba.com/properties/palm-aruba-unit-groundfl',\n",
    "        'https://boldrealestatearuba.com/properties/palm-aruba-condo-5th-fl',\n",
    "        'https://boldrealestatearuba.com/properties/aracari-residences',\n",
    "        'https://boldrealestatearuba.com/properties/the-daher-residence',\n",
    "        'https://boldrealestatearuba.com/properties/blue-residence-penthouse-1-2']"
   ]
  },
  {
   "cell_type": "code",
   "execution_count": 5,
   "metadata": {},
   "outputs": [],
   "source": [
    "path3 = path + path2"
   ]
  },
  {
   "cell_type": "code",
   "execution_count": 6,
   "metadata": {},
   "outputs": [],
   "source": [
    "def get_details(urls):\n",
    "    property_list = []\n",
    "    for link in urls:\n",
    "        req = requests.get(link)\n",
    "        soup = BeautifulSoup(req.content, 'html.parser')\n",
    "        dom = etree.HTML(str(soup))\n",
    "        name = soup.find('h1', class_ = \"lp-h3\").text\n",
    "        #location = dom.xpath('//*[@id=\"section-6fd00f4f-0c50-4836-ba89-0ce4e62192dc\"]/div/div/div/div/div[1]/div[2]/ul/li[7]/span')[0].text.strip()\n",
    "        location = soup.find('p', class_ = \"feature\").text\n",
    "        property_status = soup.find('span', class_ = \"label\").text\n",
    "        try:\n",
    "            price = soup.select('h5')[0].text.strip()\n",
    "            bathroom= dom.xpath('//*[@id=\"section-6fd00f4f-0c50-4836-ba89-0ce4e62192dc\"]/div/div/div/div/div[1]/div[1]/ul/li[2]/span')[0].text.strip()\n",
    "        except:\n",
    "            price = None\n",
    "            bathroom= None\n",
    "        rooms= dom.xpath('//*[@id=\"section-6fd00f4f-0c50-4836-ba89-0ce4e62192dc\"]/div/div/div/div/div[1]/div[1]/ul/li[1]/span')[0].text.strip()\n",
    "        \n",
    "        #pool= dom.xpath('//*[@id=\"section-6fd00f4f-0c50-4836-ba89-0ce4e62192dc\"]/div/div/div/div/div[2]/div[1]/ul/li[1]/span')[0].text.strip()\n",
    "\n",
    "            \n",
    "        prop = {\n",
    "            'name': name,\n",
    "            'location': location,\n",
    "            'property': property_status,\n",
    "            'price': price,\n",
    "            'bedrooms': rooms,\n",
    "            'bathrooms' : bathroom,\n",
    "            'Pool':None,\n",
    "            'link': link\n",
    "        }\n",
    "        property_list.append(prop)\n",
    "        print('Saving:', prop['name'])\n",
    "        \n",
    "    df = pd.DataFrame(property_list)\n",
    "    print(df.head(20))\n",
    "    df.to_csv('boldrealestatearuba.csv', header=True, index=False)"
   ]
  },
  {
   "cell_type": "code",
   "execution_count": 7,
   "metadata": {},
   "outputs": [
    {
     "name": "stdout",
     "output_type": "stream",
     "text": [
      "Saving: Villa Bella Luna \n",
      "Saving: Lux Esmeralda\n",
      "Saving: Seroe Janchi\n",
      "Saving: VILLA DIAMANTE 186\n",
      "Saving: The Multi- Space Office\n",
      "Saving: Diamante 182 A (RENTED)\n",
      "Saving: Gold Coast 138D\n",
      "Saving: Harbour Penthouse \n",
      "Saving: CENTRAL LUXURY LIVING APARTMENT #2\n",
      "Saving: Atlantic 360 Residences \n",
      "Saving: Beauty in Nature\n",
      "Saving: Seroe Janchi\n",
      "Saving: Property land Bonaire\n",
      "Saving: Property land Catashi\n",
      "Saving: Palm Beach 88-C\n",
      "Saving: Diamante 13 \n",
      "Saving: Alto Vista 32\n",
      "Saving: Paradera 87H\n"
     ]
    },
    {
     "ename": "AttributeError",
     "evalue": "'NoneType' object has no attribute 'text'",
     "output_type": "error",
     "traceback": [
      "\u001b[1;31m---------------------------------------------------------------------------\u001b[0m",
      "\u001b[1;31mAttributeError\u001b[0m                            Traceback (most recent call last)",
      "\u001b[1;32m<ipython-input-7-26f54bc5d131>\u001b[0m in \u001b[0;36m<module>\u001b[1;34m\u001b[0m\n\u001b[1;32m----> 1\u001b[1;33m \u001b[0mget_details\u001b[0m\u001b[1;33m(\u001b[0m\u001b[0mpath3\u001b[0m\u001b[1;33m)\u001b[0m\u001b[1;33m\u001b[0m\u001b[1;33m\u001b[0m\u001b[0m\n\u001b[0m",
      "\u001b[1;32m<ipython-input-6-36079c4ff728>\u001b[0m in \u001b[0;36mget_details\u001b[1;34m(urls)\u001b[0m\n\u001b[0;32m      5\u001b[0m         \u001b[0msoup\u001b[0m \u001b[1;33m=\u001b[0m \u001b[0mBeautifulSoup\u001b[0m\u001b[1;33m(\u001b[0m\u001b[0mreq\u001b[0m\u001b[1;33m.\u001b[0m\u001b[0mcontent\u001b[0m\u001b[1;33m,\u001b[0m \u001b[1;34m'html.parser'\u001b[0m\u001b[1;33m)\u001b[0m\u001b[1;33m\u001b[0m\u001b[1;33m\u001b[0m\u001b[0m\n\u001b[0;32m      6\u001b[0m         \u001b[0mdom\u001b[0m \u001b[1;33m=\u001b[0m \u001b[0metree\u001b[0m\u001b[1;33m.\u001b[0m\u001b[0mHTML\u001b[0m\u001b[1;33m(\u001b[0m\u001b[0mstr\u001b[0m\u001b[1;33m(\u001b[0m\u001b[0msoup\u001b[0m\u001b[1;33m)\u001b[0m\u001b[1;33m)\u001b[0m\u001b[1;33m\u001b[0m\u001b[1;33m\u001b[0m\u001b[0m\n\u001b[1;32m----> 7\u001b[1;33m         \u001b[0mname\u001b[0m \u001b[1;33m=\u001b[0m \u001b[0msoup\u001b[0m\u001b[1;33m.\u001b[0m\u001b[0mfind\u001b[0m\u001b[1;33m(\u001b[0m\u001b[1;34m'h1'\u001b[0m\u001b[1;33m,\u001b[0m \u001b[0mclass_\u001b[0m \u001b[1;33m=\u001b[0m \u001b[1;34m\"lp-h3\"\u001b[0m\u001b[1;33m)\u001b[0m\u001b[1;33m.\u001b[0m\u001b[0mtext\u001b[0m\u001b[1;33m\u001b[0m\u001b[1;33m\u001b[0m\u001b[0m\n\u001b[0m\u001b[0;32m      8\u001b[0m         \u001b[1;31m#location = dom.xpath('//*[@id=\"section-6fd00f4f-0c50-4836-ba89-0ce4e62192dc\"]/div/div/div/div/div[1]/div[2]/ul/li[7]/span')[0].text.strip()\u001b[0m\u001b[1;33m\u001b[0m\u001b[1;33m\u001b[0m\u001b[1;33m\u001b[0m\u001b[0m\n\u001b[0;32m      9\u001b[0m         \u001b[0mlocation\u001b[0m \u001b[1;33m=\u001b[0m \u001b[0msoup\u001b[0m\u001b[1;33m.\u001b[0m\u001b[0mfind\u001b[0m\u001b[1;33m(\u001b[0m\u001b[1;34m'p'\u001b[0m\u001b[1;33m,\u001b[0m \u001b[0mclass_\u001b[0m \u001b[1;33m=\u001b[0m \u001b[1;34m\"feature\"\u001b[0m\u001b[1;33m)\u001b[0m\u001b[1;33m.\u001b[0m\u001b[0mtext\u001b[0m\u001b[1;33m\u001b[0m\u001b[1;33m\u001b[0m\u001b[0m\n",
      "\u001b[1;31mAttributeError\u001b[0m: 'NoneType' object has no attribute 'text'"
     ]
    }
   ],
   "source": [
    "get_details(path3)"
   ]
  }
 ],
 "metadata": {
  "kernelspec": {
   "display_name": "Python 3",
   "language": "python",
   "name": "python3"
  },
  "language_info": {
   "codemirror_mode": {
    "name": "ipython",
    "version": 3
   },
   "file_extension": ".py",
   "mimetype": "text/x-python",
   "name": "python",
   "nbconvert_exporter": "python",
   "pygments_lexer": "ipython3",
   "version": "3.8.5"
  }
 },
 "nbformat": 4,
 "nbformat_minor": 4
}
