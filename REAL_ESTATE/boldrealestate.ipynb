{
 "cells": [
  {
   "cell_type": "code",
   "execution_count": 1,
   "metadata": {},
   "outputs": [],
   "source": [
    "import requests\n",
    "from bs4 import BeautifulSoup\n",
    "import pandas as pd\n",
    "import requests\n",
    "import json\n",
    "from lxml import etree\n",
    "import time"
   ]
  },
  {
   "cell_type": "code",
   "execution_count": 2,
   "metadata": {},
   "outputs": [],
   "source": [
    "url = 'https://boldrealestatearuba.com/properties/sale'\n",
    "main_url = 'https://boldrealestatearuba.com/'"
   ]
  },
  {
   "cell_type": "code",
   "execution_count": 3,
   "metadata": {},
   "outputs": [],
   "source": [
    "headers = {\n",
    "    'User-Agent': 'Mozilla/5.0 (Windows NT 6.1; Win64; x64; rv:47.0) Gecko/20100101 Firefox/47.0',\n",
    "    \"Accept-Encoding\": \"*\",\n",
    "    \"Connection\": \"keep-alive\"\n",
    "    }"
   ]
  },
  {
   "cell_type": "code",
   "execution_count": 4,
   "metadata": {},
   "outputs": [
    {
     "name": "stdout",
     "output_type": "stream",
     "text": [
      "https://boldrealestatearuba.com//properties/la-colina-tierra-del-sol\n",
      "https://boldrealestatearuba.com//properties/villa-bella-luna\n",
      "https://boldrealestatearuba.com//properties/lux-esmeralda\n",
      "https://boldrealestatearuba.com//properties/seroe-janchi\n",
      "https://boldrealestatearuba.com//properties/the-multi-space-office\n",
      "https://boldrealestatearuba.com//properties/diamante-182-a\n",
      "https://boldrealestatearuba.com//properties/gold-coast-138d\n",
      "https://boldrealestatearuba.com//properties/harbour-penthouse\n",
      "https://boldrealestatearuba.com//properties/central-luxury-living-apartment-2\n",
      "https://boldrealestatearuba.com//properties/atlantic-360-residences-2\n",
      "https://boldrealestatearuba.com//properties/beauty-in-nature\n",
      "https://boldrealestatearuba.com//properties/seroe-janchi\n",
      "https://boldrealestatearuba.com//properties/property-land-bonaire\n",
      "https://boldrealestatearuba.com//properties/property-land-catashi\n",
      "https://boldrealestatearuba.com//properties/paradera-87h\n"
     ]
    }
   ],
   "source": [
    "def get_all_url(li):\n",
    "    all_links = []\n",
    "    req = requests.get(url, headers = headers)\n",
    "    soup = BeautifulSoup(req.content, \"html.parser\")\n",
    "    anchors = soup.find_all('div', {'class': \"redesign property-list-section\"})\n",
    "    for anchor in anchors:\n",
    "        links  = anchor.find_all('a', {\"class\":\"property-list__view\",'href' :True})\n",
    "        for link in links:\n",
    "            urls = main_url +link.get('href')\n",
    "            print(urls)\n",
    "            all_links.append(urls)\n",
    "    return all_links\n",
    "path = get_all_url(url)"
   ]
  },
  {
   "cell_type": "code",
   "execution_count": 5,
   "metadata": {},
   "outputs": [],
   "source": [
    "path2 = ['https://boldrealestatearuba.com/properties/alto-vista-32',\n",
    "        'https://boldrealestatearuba.com/properties/paradera-87h',\n",
    "        'https://boldrealestatearuba.com/properties/cudi-65',\n",
    "        'https://boldrealestatearuba.com/properties/centrally-located',\n",
    "        'https://boldrealestatearuba.com/properties/bella-vista-residence',\n",
    "        'https://boldrealestatearuba.com/properties/blue-residence',\n",
    "        'https://boldrealestatearuba.com/properties/o-condominium',\n",
    "        'https://boldrealestatearuba.com/properties/palm-aruba-unit-groundfl',\n",
    "        'https://boldrealestatearuba.com/properties/palm-aruba-condo-5th-fl',\n",
    "        'https://boldrealestatearuba.com/properties/aracari-residences',\n",
    "        'https://boldrealestatearuba.com/properties/the-daher-residence',\n",
    "        'https://boldrealestatearuba.com/properties/blue-residence-penthouse-1-2']"
   ]
  },
  {
   "cell_type": "code",
   "execution_count": 6,
   "metadata": {},
   "outputs": [
    {
     "data": {
      "text/plain": [
       "['https://boldrealestatearuba.com//properties/la-colina-tierra-del-sol',\n",
       " 'https://boldrealestatearuba.com//properties/villa-bella-luna',\n",
       " 'https://boldrealestatearuba.com//properties/lux-esmeralda',\n",
       " 'https://boldrealestatearuba.com//properties/seroe-janchi',\n",
       " 'https://boldrealestatearuba.com//properties/the-multi-space-office',\n",
       " 'https://boldrealestatearuba.com//properties/diamante-182-a',\n",
       " 'https://boldrealestatearuba.com//properties/gold-coast-138d',\n",
       " 'https://boldrealestatearuba.com//properties/harbour-penthouse',\n",
       " 'https://boldrealestatearuba.com//properties/central-luxury-living-apartment-2',\n",
       " 'https://boldrealestatearuba.com//properties/atlantic-360-residences-2',\n",
       " 'https://boldrealestatearuba.com//properties/beauty-in-nature',\n",
       " 'https://boldrealestatearuba.com//properties/seroe-janchi',\n",
       " 'https://boldrealestatearuba.com//properties/property-land-bonaire',\n",
       " 'https://boldrealestatearuba.com//properties/property-land-catashi',\n",
       " 'https://boldrealestatearuba.com//properties/paradera-87h',\n",
       " 'https://boldrealestatearuba.com/properties/alto-vista-32',\n",
       " 'https://boldrealestatearuba.com/properties/paradera-87h',\n",
       " 'https://boldrealestatearuba.com/properties/cudi-65',\n",
       " 'https://boldrealestatearuba.com/properties/centrally-located',\n",
       " 'https://boldrealestatearuba.com/properties/bella-vista-residence',\n",
       " 'https://boldrealestatearuba.com/properties/blue-residence',\n",
       " 'https://boldrealestatearuba.com/properties/o-condominium',\n",
       " 'https://boldrealestatearuba.com/properties/palm-aruba-unit-groundfl',\n",
       " 'https://boldrealestatearuba.com/properties/palm-aruba-condo-5th-fl',\n",
       " 'https://boldrealestatearuba.com/properties/aracari-residences',\n",
       " 'https://boldrealestatearuba.com/properties/the-daher-residence',\n",
       " 'https://boldrealestatearuba.com/properties/blue-residence-penthouse-1-2']"
      ]
     },
     "execution_count": 6,
     "metadata": {},
     "output_type": "execute_result"
    }
   ],
   "source": [
    "path3 = path + path2\n",
    "path3"
   ]
  },
  {
   "cell_type": "code",
   "execution_count": 7,
   "metadata": {},
   "outputs": [],
   "source": [
    "path3 = ['https://boldrealestatearuba.com//properties/la-colina-tierra-del-sol',\n",
    " 'https://boldrealestatearuba.com//properties/villa-bella-luna',\n",
    " 'https://boldrealestatearuba.com//properties/lux-esmeralda',\n",
    " 'https://boldrealestatearuba.com//properties/seroe-janchi',\n",
    " 'https://boldrealestatearuba.com//properties/the-multi-space-office',\n",
    " 'https://boldrealestatearuba.com//properties/diamante-182-a',\n",
    " 'https://boldrealestatearuba.com//properties/gold-coast-138d',\n",
    " 'https://boldrealestatearuba.com//properties/harbour-penthouse',\n",
    " 'https://boldrealestatearuba.com//properties/central-luxury-living-apartment-2',\n",
    " 'https://boldrealestatearuba.com//properties/atlantic-360-residences-2',\n",
    " 'https://boldrealestatearuba.com//properties/beauty-in-nature',\n",
    " 'https://boldrealestatearuba.com//properties/seroe-janchi',\n",
    " 'https://boldrealestatearuba.com//properties/property-land-bonaire',\n",
    " 'https://boldrealestatearuba.com//properties/property-land-catashi',\n",
    " 'https://boldrealestatearuba.com//properties/palm-beach-88-c',\n",
    " 'https://boldrealestatearuba.com//properties/paradera-87h',\n",
    " 'https://boldrealestatearuba.com/properties/alto-vista-32',\n",
    " 'https://boldrealestatearuba.com/properties/paradera-87h',\n",
    " 'https://boldrealestatearuba.com/properties/centrally-located',\n",
    " 'https://boldrealestatearuba.com/properties/bella-vista-residence',\n",
    " 'https://boldrealestatearuba.com/properties/blue-residence',\n",
    " 'https://boldrealestatearuba.com/properties/o-condominium',\n",
    " 'https://boldrealestatearuba.com/properties/palm-aruba-unit-groundfl',\n",
    " 'https://boldrealestatearuba.com/properties/palm-aruba-condo-5th-fl',\n",
    " 'https://boldrealestatearuba.com/properties/aracari-residences',\n",
    " 'https://boldrealestatearuba.com/properties/the-daher-residence',\n",
    " 'https://boldrealestatearuba.com/properties/blue-residence-penthouse-1-2']"
   ]
  },
  {
   "cell_type": "code",
   "execution_count": 10,
   "metadata": {},
   "outputs": [],
   "source": [
    "def get_details(urls):\n",
    "    property_list = []\n",
    "    for link in urls:\n",
    "        req = requests.get(link, headers = headers)\n",
    "        soup = BeautifulSoup(req.content, 'html.parser')\n",
    "        dom = etree.HTML(str(soup))\n",
    "       \n",
    "        name = soup.find('h1', class_ = \"lp-h3\").text\n",
    "       \n",
    "        #location = dom.xpath('//*[@id=\"section-6fd00f4f-0c50-4836-ba89-0ce4e62192dc\"]/div/div/div/div/div[1]/div[2]/ul/li[7]/span')[0].text.strip()\n",
    "        location = soup.find('p', class_ = \"feature\").text\n",
    "        property_status = soup.find('span', class_ = \"label\").text\n",
    "            \n",
    "        try:\n",
    "            price = soup.select('h5')[0].text.strip()\n",
    "            bathroom= dom.xpath('//*[@id=\"section-6fd00f4f-0c50-4836-ba89-0ce4e62192dc\"]/div/div/div/div/div[1]/div[1]/ul/li[2]/span')[0].text.strip()\n",
    "            property_lot_size = dom.xpath('//*[@id=\"section-9b73f24f-fa86-455c-9898-d4f2afc1c44e\"]/div/div/div[2]/div[4]/p')[0].text.strip().split(\" \")[0] + 'sq.ft'\n",
    "            property_living_size =  dom.xpath('//*[@id=\"section-9b73f24f-fa86-455c-9898-d4f2afc1c44e\"]/div/div/div[2]/div[3]/p')[0].text.strip().split(\" \")[0] + 'sq.ft'\n",
    "        except AttributeError:\n",
    "            price = None\n",
    "            bathroom= None\n",
    "            property_lot_size = None\n",
    "            property_living_size  = None\n",
    "        except IndexError:\n",
    "            price = None\n",
    "            bathroom= None\n",
    "            property_lot_size = None\n",
    "            property_living_size  = None\n",
    "        rooms= dom.xpath('//*[@id=\"section-6fd00f4f-0c50-4836-ba89-0ce4e62192dc\"]/div/div/div/div/div[1]/div[1]/ul/li[1]/span')[0].text.strip()\n",
    "        time.sleep(5)\n",
    "        \n",
    "        \n",
    "        #pool= dom.xpath('//*[@id=\"section-6fd00f4f-0c50-4836-ba89-0ce4e62192dc\"]/div/div/div/div/div[2]/div[1]/ul/li[1]/span')[0].text.strip()\n",
    "\n",
    "            \n",
    "        prop = {\n",
    "            'name': name,\n",
    "            'location': location,\n",
    "            'property': property_status,\n",
    "            'property_lot_size': property_lot_size,\n",
    "            'property_living_size': property_living_size,\n",
    "            'price': price,\n",
    "            'bedrooms': rooms,\n",
    "            'bathrooms' : bathroom,\n",
    "            'Pool':None,\n",
    "            'link': link\n",
    "        }\n",
    "        property_list.append(prop)\n",
    "        print('Saving:', prop['name'])\n",
    "        \n",
    "    df = pd.DataFrame(property_list)\n",
    "    print(df.head(20))\n",
    "    df.to_csv('data/boldrealestatearuba1.csv', header=True, index=False)"
   ]
  },
  {
   "cell_type": "code",
   "execution_count": null,
   "metadata": {},
   "outputs": [
    {
     "name": "stdout",
     "output_type": "stream",
     "text": [
      "Saving: La Colina - TIERRA DEL SOL\n",
      "Saving: Villa Bella Luna \n",
      "Saving: Lux Esmeralda\n",
      "Saving: Seroe Janchi\n",
      "Saving: The Multi- Space Office\n",
      "Saving: Diamante 182 A (RENTED)\n",
      "Saving: Gold Coast 138D (RENTED)\n",
      "Saving: Harbour Penthouse \n",
      "Saving: CENTRAL LUXURY LIVING APARTMENT #2\n"
     ]
    }
   ],
   "source": [
    "get_details(path3[:24])"
   ]
  }
 ],
 "metadata": {
  "kernelspec": {
   "display_name": "Python 3",
   "language": "python",
   "name": "python3"
  },
  "language_info": {
   "codemirror_mode": {
    "name": "ipython",
    "version": 3
   },
   "file_extension": ".py",
   "mimetype": "text/x-python",
   "name": "python",
   "nbconvert_exporter": "python",
   "pygments_lexer": "ipython3",
   "version": "3.8.5"
  }
 },
 "nbformat": 4,
 "nbformat_minor": 4
}
