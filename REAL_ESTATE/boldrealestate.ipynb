{
 "cells": [
  {
   "cell_type": "code",
   "execution_count": 1,
   "metadata": {},
   "outputs": [],
   "source": [
    "import requests\n",
    "from bs4 import BeautifulSoup\n",
    "import pandas as pd\n",
    "import requests\n",
    "import json\n",
    "from lxml import etree"
   ]
  },
  {
   "cell_type": "code",
   "execution_count": 2,
   "metadata": {},
   "outputs": [],
   "source": [
    "url = 'https://boldrealestatearuba.com/properties/sale'\n",
    "main_url = 'https://boldrealestatearuba.com/'"
   ]
  },
  {
   "cell_type": "code",
   "execution_count": 3,
   "metadata": {},
   "outputs": [],
   "source": [
    "def get_all_url(li):\n",
    "    all_links = []\n",
    "    req = requests.get(url)\n",
    "    soup = BeautifulSoup(req.content, \"html.parser\")\n",
    "    anchors = soup.find_all('div', {'class': \"redesign property-list-section\"})\n",
    "    for anchor in anchors:\n",
    "        links  = anchor.find_all('a', {\"class\":\"property-list__view\",'href' :True})\n",
    "        for link in links:\n",
    "            urls = main_url +link.get('href')\n",
    "            print(urls)\n",
    "            all_links.append(urls)\n",
    "    return all_links\n",
    "path = get_all_url(url)"
   ]
  },
  {
   "cell_type": "code",
   "execution_count": 4,
   "metadata": {},
   "outputs": [],
   "source": [
    "path2 = ['https://boldrealestatearuba.com/properties/alto-vista-32',\n",
    "        'https://boldrealestatearuba.com/properties/paradera-87h',\n",
    "        'https://boldrealestatearuba.com/properties/cudi-65',\n",
    "        'https://boldrealestatearuba.com/properties/centrally-located',\n",
    "        'https://boldrealestatearuba.com/properties/bella-vista-residence',\n",
    "        'https://boldrealestatearuba.com/properties/blue-residence',\n",
    "        'https://boldrealestatearuba.com/properties/o-condominium',\n",
    "        'https://boldrealestatearuba.com/properties/palm-aruba-unit-groundfl',\n",
    "        'https://boldrealestatearuba.com/properties/palm-aruba-condo-5th-fl',\n",
    "        'https://boldrealestatearuba.com/properties/aracari-residences',\n",
    "        'https://boldrealestatearuba.com/properties/the-daher-residence',\n",
    "        'https://boldrealestatearuba.com/properties/blue-residence-penthouse-1-2']"
   ]
  },
  {
   "cell_type": "code",
   "execution_count": 5,
   "metadata": {},
   "outputs": [
    {
     "data": {
      "text/plain": [
       "['https://boldrealestatearuba.com/properties/alto-vista-32',\n",
       " 'https://boldrealestatearuba.com/properties/paradera-87h',\n",
       " 'https://boldrealestatearuba.com/properties/cudi-65',\n",
       " 'https://boldrealestatearuba.com/properties/centrally-located',\n",
       " 'https://boldrealestatearuba.com/properties/bella-vista-residence',\n",
       " 'https://boldrealestatearuba.com/properties/blue-residence',\n",
       " 'https://boldrealestatearuba.com/properties/o-condominium',\n",
       " 'https://boldrealestatearuba.com/properties/palm-aruba-unit-groundfl',\n",
       " 'https://boldrealestatearuba.com/properties/palm-aruba-condo-5th-fl',\n",
       " 'https://boldrealestatearuba.com/properties/aracari-residences',\n",
       " 'https://boldrealestatearuba.com/properties/the-daher-residence',\n",
       " 'https://boldrealestatearuba.com/properties/blue-residence-penthouse-1-2']"
      ]
     },
     "execution_count": 5,
     "metadata": {},
     "output_type": "execute_result"
    }
   ],
   "source": [
    "path3 = path + path2\n",
    "path3"
   ]
  },
  {
   "cell_type": "code",
   "execution_count": 6,
   "metadata": {},
   "outputs": [],
   "source": [
    "def get_details(urls):\n",
    "    property_list = []\n",
    "    for link in urls:\n",
    "        req = requests.get(link)\n",
    "        soup = BeautifulSoup(req.content, 'html.parser')\n",
    "        dom = etree.HTML(str(soup))\n",
    "        try:\n",
    "            name = soup.find('h1', class_ = \"lp-h3\").text\n",
    "       \n",
    "        #location = dom.xpath('//*[@id=\"section-6fd00f4f-0c50-4836-ba89-0ce4e62192dc\"]/div/div/div/div/div[1]/div[2]/ul/li[7]/span')[0].text.strip()\n",
    "            location = soup.find('p', class_ = \"feature\").text\n",
    "            property_status = soup.find('span', class_ = \"label\").text\n",
    "            \n",
    "            try:\n",
    "                price = soup.select('h5')[0].text.strip()\n",
    "                bathroom= dom.xpath('//*[@id=\"section-6fd00f4f-0c50-4836-ba89-0ce4e62192dc\"]/div/div/div/div/div[1]/div[1]/ul/li[2]/span')[0].text.strip()\n",
    "                property_lot_size = dom.xpath('//*[@id=\"section-9b73f24f-fa86-455c-9898-d4f2afc1c44e\"]/div/div/div[2]/div[4]/p')[0].text.strip().split(\" \")[0] + 'sq.ft'\n",
    "                property_living_size =  dom.xpath('//*[@id=\"section-9b73f24f-fa86-455c-9898-d4f2afc1c44e\"]/div/div/div[2]/div[3]/p')[0].text.strip().split(\" \")[0] + 'sq.ft'\n",
    "            except:\n",
    "                price = None\n",
    "                bathroom= None\n",
    "                property_size = None\n",
    "            rooms= dom.xpath('//*[@id=\"section-6fd00f4f-0c50-4836-ba89-0ce4e62192dc\"]/div/div/div/div/div[1]/div[1]/ul/li[1]/span')[0].text.strip()\n",
    "        except AttributeError:\n",
    "            pass\n",
    "        \n",
    "        #pool= dom.xpath('//*[@id=\"section-6fd00f4f-0c50-4836-ba89-0ce4e62192dc\"]/div/div/div/div/div[2]/div[1]/ul/li[1]/span')[0].text.strip()\n",
    "\n",
    "            \n",
    "        prop = {\n",
    "            'name': name,\n",
    "            'location': location,\n",
    "            'property': property_status,\n",
    "            'property_lot_size': property_lot_size,\n",
    "            'property_living_size': property_living_size,\n",
    "            'price': price,\n",
    "            'bedrooms': rooms,\n",
    "            'bathrooms' : bathroom,\n",
    "            'Pool':None,\n",
    "            'link': link\n",
    "        }\n",
    "        property_list.append(prop)\n",
    "        print('Saving:', prop['name'])\n",
    "        \n",
    "    df = pd.DataFrame(property_list)\n",
    "    print(df.head(20))\n",
    "    df.to_csv('data/boldrealestatearuba.csv', header=True, index=False)"
   ]
  },
  {
   "cell_type": "code",
   "execution_count": 7,
   "metadata": {},
   "outputs": [
    {
     "ename": "UnboundLocalError",
     "evalue": "local variable 'name' referenced before assignment",
     "output_type": "error",
     "traceback": [
      "\u001b[1;31m---------------------------------------------------------------------------\u001b[0m",
      "\u001b[1;31mUnboundLocalError\u001b[0m                         Traceback (most recent call last)",
      "\u001b[1;32m<ipython-input-7-26f54bc5d131>\u001b[0m in \u001b[0;36m<module>\u001b[1;34m\u001b[0m\n\u001b[1;32m----> 1\u001b[1;33m \u001b[0mget_details\u001b[0m\u001b[1;33m(\u001b[0m\u001b[0mpath3\u001b[0m\u001b[1;33m)\u001b[0m\u001b[1;33m\u001b[0m\u001b[1;33m\u001b[0m\u001b[0m\n\u001b[0m",
      "\u001b[1;32m<ipython-input-6-96015e9d1879>\u001b[0m in \u001b[0;36mget_details\u001b[1;34m(urls)\u001b[0m\n\u001b[0;32m     29\u001b[0m \u001b[1;33m\u001b[0m\u001b[0m\n\u001b[0;32m     30\u001b[0m         prop = {\n\u001b[1;32m---> 31\u001b[1;33m             \u001b[1;34m'name'\u001b[0m\u001b[1;33m:\u001b[0m \u001b[0mname\u001b[0m\u001b[1;33m,\u001b[0m\u001b[1;33m\u001b[0m\u001b[1;33m\u001b[0m\u001b[0m\n\u001b[0m\u001b[0;32m     32\u001b[0m             \u001b[1;34m'location'\u001b[0m\u001b[1;33m:\u001b[0m \u001b[0mlocation\u001b[0m\u001b[1;33m,\u001b[0m\u001b[1;33m\u001b[0m\u001b[1;33m\u001b[0m\u001b[0m\n\u001b[0;32m     33\u001b[0m             \u001b[1;34m'property'\u001b[0m\u001b[1;33m:\u001b[0m \u001b[0mproperty_status\u001b[0m\u001b[1;33m,\u001b[0m\u001b[1;33m\u001b[0m\u001b[1;33m\u001b[0m\u001b[0m\n",
      "\u001b[1;31mUnboundLocalError\u001b[0m: local variable 'name' referenced before assignment"
     ]
    }
   ],
   "source": [
    "get_details(path3)"
   ]
  }
 ],
 "metadata": {
  "kernelspec": {
   "display_name": "Python 3",
   "language": "python",
   "name": "python3"
  },
  "language_info": {
   "codemirror_mode": {
    "name": "ipython",
    "version": 3
   },
   "file_extension": ".py",
   "mimetype": "text/x-python",
   "name": "python",
   "nbconvert_exporter": "python",
   "pygments_lexer": "ipython3",
   "version": "3.8.5"
  }
 },
 "nbformat": 4,
 "nbformat_minor": 4
}
