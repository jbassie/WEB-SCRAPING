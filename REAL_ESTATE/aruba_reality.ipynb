{
 "cells": [
  {
   "cell_type": "code",
   "execution_count": null,
   "metadata": {},
   "outputs": [],
   "source": [
    "import requests\n",
    "from bs4 import BeautifulSoup\n",
    "import pandas as pd\n",
    "import requests\n",
    "import json\n",
    "from lxml import etree"
   ]
  },
  {
   "cell_type": "code",
   "execution_count": null,
   "metadata": {},
   "outputs": [],
   "source": [
    "main_url = 'https://aruba-realty.com/'\n",
    "sub_links = [\"property/list/houses-for-sale\", \"property/list/longterm-rentals\",\n",
    "             \"property/list/vacation-rentals\", \"property/list/condominiums-for-sale\", \"property/list/commercial-for-sale\",\n",
    "             \"property/list/property-land-for-sale\", \"property/list/commercial-rentals\", \"property/list/project-development\"]"
   ]
  },
  {
   "cell_type": "code",
   "execution_count": null,
   "metadata": {},
   "outputs": [],
   "source": [
    "def join_links(main, sub):\n",
    "    links  = []\n",
    "    for sub in sub_links:\n",
    "        url = main_url + sub\n",
    "        links.append(url)\n",
    "    return links\n",
    "links = join_links(main_url, sub_links)"
   ]
  },
  {
   "cell_type": "code",
   "execution_count": null,
   "metadata": {},
   "outputs": [],
   "source": [
    "links"
   ]
  },
  {
   "cell_type": "code",
   "execution_count": null,
   "metadata": {},
   "outputs": [],
   "source": [
    "def get_all_url(li):\n",
    "    all_links = []\n",
    "    for link in li:\n",
    "        req = requests.get(link)\n",
    "        soup = BeautifulSoup(req.content, \"html.parser\")\n",
    "        anchors = soup.find('div', {'class': 'property-type-grid'})\n",
    "        for anchor in anchors:\n",
    "            links  = anchor.find_all('a', href = True)\n",
    "            for link in links:\n",
    "                urls = link.get('href')\n",
    "                #print(urls)\n",
    "                all_links.append(urls)\n",
    "    return all_links\n",
    "path = get_all_url(links)"
   ]
  },
  {
   "cell_type": "code",
   "execution_count": null,
   "metadata": {},
   "outputs": [],
   "source": [
    "def get_details(urls):\n",
    "    property_list = []\n",
    "    for link in urls:\n",
    "        req = requests.get(link)\n",
    "        soup = BeautifulSoup(req.content, 'html.parser')\n",
    "        dom = etree.HTML(str(soup))\n",
    "        \n",
    "        name = soup.find('span', class_ = \"listing-heading\").get('title')\n",
    "        location = soup.find('div', class_ = \"address\").text.strip()\n",
    "        try:\n",
    "            property_status = soup.find('div', class_ = \"page-property-details__status\").text\n",
    "            property_type = soup.find('div', class_ = \"listing-type\").text\n",
    "        except AttributeError:\n",
    "            property_status =None\n",
    "            property_type = None\n",
    "        price = soup.find('div', class_ = \"price\").text.strip().split(\" \")[1]\n",
    "        rooms = soup.find_all(\"div\", class_=\"listing-amenety\")\n",
    "        try:\n",
    "            pool = rooms[2].text\n",
    "            bedroom = rooms[0].text.split(\" \")[0]\n",
    "            bathroom = rooms[1].text.split(\" \")[0]\n",
    "            lat = dom.xpath('///*[@id=\"map\"]/script')[0].text.strip().split('{')[2].split(',')[0].split(':')[1].strip()\n",
    "            long = dom.xpath('//*[@id=\"map\"]/script')[0].text.strip().split('{')[2].split(',')[1].split(':')[1].strip().replace('}', \"\")\n",
    "        except IndexError:\n",
    "            pool = None\n",
    "            bedroom = None\n",
    "            bathroom=  None\n",
    "            lat = None\n",
    "            long = None\n",
    "        link = link\n",
    "\n",
    "        prop = {\n",
    "            'name': name,\n",
    "            'location': location,\n",
    "            'property_status': property_status,\n",
    "            'property_type':property_type,\n",
    "            'price': price,\n",
    "            'bedrooms': bedroom,\n",
    "            'bathrooms' : bathroom,\n",
    "            'Pool':pool,\n",
    "            'Latitude': lat,\n",
    "            'Longitude': long,\n",
    "            'link': link\n",
    "        }\n",
    "        property_list.append(prop)\n",
    "        print('Saving:', prop['name'])\n",
    "        \n",
    "    df = pd.DataFrame(property_list)\n",
    "    print(df.head(20))\n",
    "    df.to_csv('data/aruba_reality.csv', header=True, index=False)"
   ]
  },
  {
   "cell_type": "code",
   "execution_count": null,
   "metadata": {},
   "outputs": [],
   "source": [
    "get_details(path)"
   ]
  }
 ],
 "metadata": {
  "kernelspec": {
   "display_name": "Python 3",
   "language": "python",
   "name": "python3"
  },
  "language_info": {
   "codemirror_mode": {
    "name": "ipython",
    "version": 3
   },
   "file_extension": ".py",
   "mimetype": "text/x-python",
   "name": "python",
   "nbconvert_exporter": "python",
   "pygments_lexer": "ipython3",
   "version": "3.8.5"
  }
 },
 "nbformat": 4,
 "nbformat_minor": 4
}
