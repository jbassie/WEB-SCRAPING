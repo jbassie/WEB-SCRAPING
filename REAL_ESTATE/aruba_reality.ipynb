{
 "cells": [
  {
   "cell_type": "code",
   "execution_count": 7,
   "metadata": {},
   "outputs": [],
   "source": [
    "import requests\n",
    "from bs4 import BeautifulSoup\n",
    "import pandas as pd\n",
    "import requests\n",
    "import json"
   ]
  },
  {
   "cell_type": "code",
   "execution_count": 8,
   "metadata": {},
   "outputs": [],
   "source": [
    "main_url = 'https://aruba-realty.com/'\n",
    "sub_links = [\"property/list/houses-for-sale\", \"property/list/longterm-rentals\",\n",
    "             \"property/list/vacation-rentals\", \"property/list/condominiums-for-sale\", \"property/list/commercial-for-sale\",\n",
    "             \"property/list/property-land-for-sale\", \"property/list/commercial-rentals\", \"property/list/project-development\"]"
   ]
  },
  {
   "cell_type": "code",
   "execution_count": 9,
   "metadata": {},
   "outputs": [],
   "source": [
    "def join_links(main, sub):\n",
    "    links  = []\n",
    "    for sub in sub_links:\n",
    "        url = main_url + sub\n",
    "        links.append(url)\n",
    "    return links\n",
    "links = join_links(main_url, sub_links)"
   ]
  },
  {
   "cell_type": "code",
   "execution_count": 10,
   "metadata": {},
   "outputs": [
    {
     "data": {
      "text/plain": [
       "['https://aruba-realty.com/property/list/houses-for-sale',\n",
       " 'https://aruba-realty.com/property/list/longterm-rentals',\n",
       " 'https://aruba-realty.com/property/list/vacation-rentals',\n",
       " 'https://aruba-realty.com/property/list/condominiums-for-sale',\n",
       " 'https://aruba-realty.com/property/list/commercial-for-sale',\n",
       " 'https://aruba-realty.com/property/list/property-land-for-sale',\n",
       " 'https://aruba-realty.com/property/list/commercial-rentals',\n",
       " 'https://aruba-realty.com/property/list/project-development']"
      ]
     },
     "execution_count": 10,
     "metadata": {},
     "output_type": "execute_result"
    }
   ],
   "source": [
    "links"
   ]
  },
  {
   "cell_type": "code",
   "execution_count": 16,
   "metadata": {},
   "outputs": [],
   "source": [
    "def get_all_url(li):\n",
    "    all_links = []\n",
    "    for link in li:\n",
    "        req = requests.get(link)\n",
    "        soup = BeautifulSoup(req.content, \"html.parser\")\n",
    "        anchors = soup.find('div', {'class': 'property-type-grid'})\n",
    "        for anchor in anchors:\n",
    "            links  = anchor.find_all('a', href = True)\n",
    "            for link in links:\n",
    "                urls = link.get('href')\n",
    "                #print(urls)\n",
    "                all_links.append(urls)\n",
    "    return all_links\n",
    "path = get_all_url(links)"
   ]
  },
  {
   "cell_type": "code",
   "execution_count": 21,
   "metadata": {},
   "outputs": [],
   "source": [
    "def get_details(urls):\n",
    "    property_list = []\n",
    "    for link in urls:\n",
    "        req = requests.get(link)\n",
    "        soup = BeautifulSoup(req.content, 'html.parser')\n",
    "        name = soup.find('span', class_ = \"listing-heading\").get('title')\n",
    "        location = soup.find('div', class_ = \"address\").text.strip()\n",
    "        try:\n",
    "            property_status = soup.find('div', class_ = \"page-property-details__status\").text\n",
    "        except AttributeError:\n",
    "            property_status =None\n",
    "        price = soup.find('div', class_ = \"price\").text.strip().split(\" \")[1]\n",
    "        rooms = soup.find_all(\"div\", class_=\"listing-amenety\")\n",
    "        try:\n",
    "            pool = rooms[2].text\n",
    "            bedroom = rooms[0].text.split(\" \")[0]\n",
    "            bathroom = rooms[1].text.split(\" \")[0]\n",
    "        except IndexError:\n",
    "            pool = None\n",
    "            bedroom = None\n",
    "            bathroom=  None\n",
    "        link = link\n",
    "\n",
    "        prop = {\n",
    "            'name': name,\n",
    "            'location': location,\n",
    "            'property': property_status,\n",
    "            'price': price,\n",
    "            'bedrooms': bedroom,\n",
    "            'bathrooms' : bathroom,\n",
    "            'Pool':pool,\n",
    "            'link': link\n",
    "        }\n",
    "        property_list.append(prop)\n",
    "        print('Saving:', prop['name'])\n",
    "        \n",
    "    df = pd.DataFrame(property_list)\n",
    "    print(df.head(20))\n",
    "    df.to_csv('aruba_reality.csv', header=True, index=False)"
   ]
  },
  {
   "cell_type": "code",
   "execution_count": null,
   "metadata": {},
   "outputs": [
    {
     "name": "stdout",
     "output_type": "stream",
     "text": [
      "Saving: CASA Distinct\n",
      "Saving: Casa Coral Pyramid Penthouse\n",
      "Saving: Casa Coral Shell 3-CD\n",
      "Saving: Casa Coral Shell GF-C\n",
      "Saving: CASA Atlantis Model H-I\n",
      "Saving: CASA Atlantis Penthouses\n",
      "Saving: CASA Blue Residence Penthouse PH 3-6\n",
      "Saving: Casa Coral Shell 1-E/2-E LOFT\n",
      "Saving: CASA Atlantis Model D\n",
      "Saving: CASA Blue Residence Penthouse PH 1-2\n",
      "Saving: CASA Blue Residence Penthouse TH-4\n",
      "Saving: CASA Noble\n",
      "Saving: Casa Corazón de La Villa Sol\n",
      "Saving: CASA Atlantis Model C\n",
      "Saving: CASA Atlantis Model B\n",
      "Saving: CASA Oceania unit 124\n",
      "Saving: CASA Atlantis Model A\n",
      "Saving: Casa Coral Shell GF-B\n",
      "Saving: CASA Fantastical\n",
      "Saving: CASA To The Moon & Back\n",
      "Saving: CASA Royalty\n",
      "Saving: CASA Harbor View\n",
      "Saving: CASA Tropical Escape\n",
      "Saving: CASA Blue Residence unit 221\n",
      "Saving: Casa Coral Shell 2-F\n",
      "Saving: Casa Tera Grandi\n",
      "Saving: CASA Blue Residence unit 121\n",
      "Saving: CASA Majestic\n",
      "Saving: CASA Just Right\n",
      "Saving: CASA Aruban Sunset\n",
      "Saving: CASA Tamarijn\n",
      "Saving: Casa Palm\n",
      "Saving: CASA Seroe Blanco Apartment complex\n",
      "Saving: CASA Sweelinck + 9 Apartments\n",
      "Saving: CASA Top of the Hill Babijn\n",
      "Saving: CASA PalmaAruba #308\n",
      "Saving: CASA Harbour House #320\n",
      "Saving: CASA Blue Residence unit 633\n",
      "Saving: CASA Moko Paradise\n",
      "Saving: CASA Brilliant\n",
      "Saving: CASA Jardin del Mar (F)\n",
      "Saving: CASA Fair\n",
      "Saving: CASA Harbour House #321\n",
      "Saving: CASA The Golden Pearl\n",
      "Saving: CASA Harbour House #302\n",
      "Saving: CASA Azure Tower 2 - Studio Ground Floor -#122\n",
      "Saving: CASA Tumba Diamand\n",
      "Saving: CASA la Mirage\n",
      "Saving: CASA New Beginnings\n",
      "Saving: CASA Marines\n",
      "Saving: CASA Day Dream\n",
      "Saving: CASA Villa Daniella\n",
      "Saving: CASA Bloemond\n",
      "Saving: CASA Wacamaya 7B\n",
      "Saving: Casa Luna\n",
      "Saving: CASA Twin 1\n",
      "Saving: CASA Twin 2\n",
      "Saving: CASA Seroe Blanco Executive\n",
      "Saving: CASA Casibari\n",
      "Saving: CASA Caya Solo Lovely\n",
      "Saving: Casa Cuquisa\n",
      "Saving: CASA Camacuri Moon (C)\n",
      "Saving: Casa Sunrise City\n",
      "Saving: CASA Camacuri Sun (A)\n",
      "Saving: CASA Aloe\n",
      "Saving: CASA Distinct\n",
      "Saving: CASA Unique\n",
      "Saving: CASA The Rainbow Villa\n",
      "Saving: CASA Polack Residence Pro\n"
     ]
    }
   ],
   "source": [
    "get_details(path)"
   ]
  }
 ],
 "metadata": {
  "kernelspec": {
   "display_name": "Python 3",
   "language": "python",
   "name": "python3"
  },
  "language_info": {
   "codemirror_mode": {
    "name": "ipython",
    "version": 3
   },
   "file_extension": ".py",
   "mimetype": "text/x-python",
   "name": "python",
   "nbconvert_exporter": "python",
   "pygments_lexer": "ipython3",
   "version": "3.8.5"
  }
 },
 "nbformat": 4,
 "nbformat_minor": 4
}
